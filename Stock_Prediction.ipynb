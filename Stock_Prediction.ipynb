{
 "cells": [
  {
   "cell_type": "markdown",
   "metadata": {},
   "source": [
    "# Importing pac"
   ]
  },
  {
   "cell_type": "code",
   "execution_count": 81,
   "metadata": {},
   "outputs": [],
   "source": [
    "### Data Collection\n",
    "import matplotlib.pyplot as plt\n",
    "import pandas as pd\n",
    "import pandas_datareader as pdr\n",
    "import numpy as np\n",
    "key=\"f7fee84c9ad6db319bb4e6cd55a797e5ab66561f\""
   ]
  },
  {
   "cell_type": "markdown",
   "metadata": {},
   "source": [
    "# Getting Tata Motors stock prices from Tiingo"
   ]
  },
  {
   "cell_type": "code",
   "execution_count": 82,
   "metadata": {},
   "outputs": [],
   "source": [
    "df = pdr.get_data_tiingo('TTM', api_key=key)\n"
   ]
  },
  {
   "cell_type": "code",
   "execution_count": 83,
   "metadata": {},
   "outputs": [],
   "source": [
    "df.to_csv('C:/Users/asus/TTM.csv')"
   ]
  },
  {
   "cell_type": "code",
   "execution_count": 84,
   "metadata": {
    "scrolled": true
   },
   "outputs": [],
   "source": [
    "df=pd.read_csv('C:/Users/asus/TTM.csv')"
   ]
  },
  {
   "cell_type": "code",
   "execution_count": 85,
   "metadata": {},
   "outputs": [
    {
     "data": {
      "text/html": [
       "<div>\n",
       "<style scoped>\n",
       "    .dataframe tbody tr th:only-of-type {\n",
       "        vertical-align: middle;\n",
       "    }\n",
       "\n",
       "    .dataframe tbody tr th {\n",
       "        vertical-align: top;\n",
       "    }\n",
       "\n",
       "    .dataframe thead th {\n",
       "        text-align: right;\n",
       "    }\n",
       "</style>\n",
       "<table border=\"1\" class=\"dataframe\">\n",
       "  <thead>\n",
       "    <tr style=\"text-align: right;\">\n",
       "      <th></th>\n",
       "      <th>symbol</th>\n",
       "      <th>date</th>\n",
       "      <th>close</th>\n",
       "      <th>high</th>\n",
       "      <th>low</th>\n",
       "      <th>open</th>\n",
       "      <th>volume</th>\n",
       "      <th>adjClose</th>\n",
       "      <th>adjHigh</th>\n",
       "      <th>adjLow</th>\n",
       "      <th>adjOpen</th>\n",
       "      <th>adjVolume</th>\n",
       "      <th>divCash</th>\n",
       "      <th>splitFactor</th>\n",
       "    </tr>\n",
       "  </thead>\n",
       "  <tbody>\n",
       "    <tr>\n",
       "      <th>0</th>\n",
       "      <td>TTM</td>\n",
       "      <td>2016-04-18 00:00:00+00:00</td>\n",
       "      <td>30.54</td>\n",
       "      <td>30.87</td>\n",
       "      <td>30.44</td>\n",
       "      <td>30.49</td>\n",
       "      <td>1412801</td>\n",
       "      <td>30.529884</td>\n",
       "      <td>30.859774</td>\n",
       "      <td>30.429917</td>\n",
       "      <td>30.479900</td>\n",
       "      <td>1412801</td>\n",
       "      <td>0.0</td>\n",
       "      <td>1.0</td>\n",
       "    </tr>\n",
       "    <tr>\n",
       "      <th>1</th>\n",
       "      <td>TTM</td>\n",
       "      <td>2016-04-19 00:00:00+00:00</td>\n",
       "      <td>30.79</td>\n",
       "      <td>31.16</td>\n",
       "      <td>30.61</td>\n",
       "      <td>30.87</td>\n",
       "      <td>1070723</td>\n",
       "      <td>30.779801</td>\n",
       "      <td>31.149678</td>\n",
       "      <td>30.599860</td>\n",
       "      <td>30.859774</td>\n",
       "      <td>1070723</td>\n",
       "      <td>0.0</td>\n",
       "      <td>1.0</td>\n",
       "    </tr>\n",
       "    <tr>\n",
       "      <th>2</th>\n",
       "      <td>TTM</td>\n",
       "      <td>2016-04-20 00:00:00+00:00</td>\n",
       "      <td>30.80</td>\n",
       "      <td>31.00</td>\n",
       "      <td>30.59</td>\n",
       "      <td>30.59</td>\n",
       "      <td>929306</td>\n",
       "      <td>30.789798</td>\n",
       "      <td>30.989731</td>\n",
       "      <td>30.579867</td>\n",
       "      <td>30.579867</td>\n",
       "      <td>929306</td>\n",
       "      <td>0.0</td>\n",
       "      <td>1.0</td>\n",
       "    </tr>\n",
       "    <tr>\n",
       "      <th>3</th>\n",
       "      <td>TTM</td>\n",
       "      <td>2016-04-21 00:00:00+00:00</td>\n",
       "      <td>30.89</td>\n",
       "      <td>31.00</td>\n",
       "      <td>30.54</td>\n",
       "      <td>31.00</td>\n",
       "      <td>964892</td>\n",
       "      <td>30.879768</td>\n",
       "      <td>30.989731</td>\n",
       "      <td>30.529884</td>\n",
       "      <td>30.989731</td>\n",
       "      <td>964892</td>\n",
       "      <td>0.0</td>\n",
       "      <td>1.0</td>\n",
       "    </tr>\n",
       "    <tr>\n",
       "      <th>4</th>\n",
       "      <td>TTM</td>\n",
       "      <td>2016-04-22 00:00:00+00:00</td>\n",
       "      <td>31.30</td>\n",
       "      <td>31.40</td>\n",
       "      <td>30.86</td>\n",
       "      <td>30.86</td>\n",
       "      <td>1132032</td>\n",
       "      <td>31.289632</td>\n",
       "      <td>31.389599</td>\n",
       "      <td>30.849778</td>\n",
       "      <td>30.849778</td>\n",
       "      <td>1132032</td>\n",
       "      <td>0.0</td>\n",
       "      <td>1.0</td>\n",
       "    </tr>\n",
       "  </tbody>\n",
       "</table>\n",
       "</div>"
      ],
      "text/plain": [
       "  symbol                       date  close   high    low   open   volume  \\\n",
       "0    TTM  2016-04-18 00:00:00+00:00  30.54  30.87  30.44  30.49  1412801   \n",
       "1    TTM  2016-04-19 00:00:00+00:00  30.79  31.16  30.61  30.87  1070723   \n",
       "2    TTM  2016-04-20 00:00:00+00:00  30.80  31.00  30.59  30.59   929306   \n",
       "3    TTM  2016-04-21 00:00:00+00:00  30.89  31.00  30.54  31.00   964892   \n",
       "4    TTM  2016-04-22 00:00:00+00:00  31.30  31.40  30.86  30.86  1132032   \n",
       "\n",
       "    adjClose    adjHigh     adjLow    adjOpen  adjVolume  divCash  splitFactor  \n",
       "0  30.529884  30.859774  30.429917  30.479900    1412801      0.0          1.0  \n",
       "1  30.779801  31.149678  30.599860  30.859774    1070723      0.0          1.0  \n",
       "2  30.789798  30.989731  30.579867  30.579867     929306      0.0          1.0  \n",
       "3  30.879768  30.989731  30.529884  30.989731     964892      0.0          1.0  \n",
       "4  31.289632  31.389599  30.849778  30.849778    1132032      0.0          1.0  "
      ]
     },
     "execution_count": 85,
     "metadata": {},
     "output_type": "execute_result"
    }
   ],
   "source": [
    "df.head()"
   ]
  },
  {
   "cell_type": "code",
   "execution_count": 86,
   "metadata": {},
   "outputs": [
    {
     "data": {
      "text/html": [
       "<div>\n",
       "<style scoped>\n",
       "    .dataframe tbody tr th:only-of-type {\n",
       "        vertical-align: middle;\n",
       "    }\n",
       "\n",
       "    .dataframe tbody tr th {\n",
       "        vertical-align: top;\n",
       "    }\n",
       "\n",
       "    .dataframe thead th {\n",
       "        text-align: right;\n",
       "    }\n",
       "</style>\n",
       "<table border=\"1\" class=\"dataframe\">\n",
       "  <thead>\n",
       "    <tr style=\"text-align: right;\">\n",
       "      <th></th>\n",
       "      <th>symbol</th>\n",
       "      <th>date</th>\n",
       "      <th>close</th>\n",
       "      <th>high</th>\n",
       "      <th>low</th>\n",
       "      <th>open</th>\n",
       "      <th>volume</th>\n",
       "      <th>adjClose</th>\n",
       "      <th>adjHigh</th>\n",
       "      <th>adjLow</th>\n",
       "      <th>adjOpen</th>\n",
       "      <th>adjVolume</th>\n",
       "      <th>divCash</th>\n",
       "      <th>splitFactor</th>\n",
       "    </tr>\n",
       "  </thead>\n",
       "  <tbody>\n",
       "    <tr>\n",
       "      <th>1253</th>\n",
       "      <td>TTM</td>\n",
       "      <td>2021-04-09 00:00:00+00:00</td>\n",
       "      <td>21.24</td>\n",
       "      <td>21.24</td>\n",
       "      <td>20.96</td>\n",
       "      <td>21.06</td>\n",
       "      <td>688764</td>\n",
       "      <td>21.24</td>\n",
       "      <td>21.24</td>\n",
       "      <td>20.96</td>\n",
       "      <td>21.06</td>\n",
       "      <td>688764</td>\n",
       "      <td>0.0</td>\n",
       "      <td>1.0</td>\n",
       "    </tr>\n",
       "    <tr>\n",
       "      <th>1254</th>\n",
       "      <td>TTM</td>\n",
       "      <td>2021-04-12 00:00:00+00:00</td>\n",
       "      <td>18.56</td>\n",
       "      <td>19.22</td>\n",
       "      <td>18.56</td>\n",
       "      <td>19.16</td>\n",
       "      <td>3509402</td>\n",
       "      <td>18.56</td>\n",
       "      <td>19.22</td>\n",
       "      <td>18.56</td>\n",
       "      <td>19.16</td>\n",
       "      <td>3509402</td>\n",
       "      <td>0.0</td>\n",
       "      <td>1.0</td>\n",
       "    </tr>\n",
       "    <tr>\n",
       "      <th>1255</th>\n",
       "      <td>TTM</td>\n",
       "      <td>2021-04-13 00:00:00+00:00</td>\n",
       "      <td>19.66</td>\n",
       "      <td>20.09</td>\n",
       "      <td>19.58</td>\n",
       "      <td>20.03</td>\n",
       "      <td>2334295</td>\n",
       "      <td>19.66</td>\n",
       "      <td>20.09</td>\n",
       "      <td>19.58</td>\n",
       "      <td>20.03</td>\n",
       "      <td>2334295</td>\n",
       "      <td>0.0</td>\n",
       "      <td>1.0</td>\n",
       "    </tr>\n",
       "    <tr>\n",
       "      <th>1256</th>\n",
       "      <td>TTM</td>\n",
       "      <td>2021-04-14 00:00:00+00:00</td>\n",
       "      <td>20.05</td>\n",
       "      <td>20.34</td>\n",
       "      <td>19.89</td>\n",
       "      <td>19.89</td>\n",
       "      <td>1293354</td>\n",
       "      <td>20.05</td>\n",
       "      <td>20.34</td>\n",
       "      <td>19.89</td>\n",
       "      <td>19.89</td>\n",
       "      <td>1293354</td>\n",
       "      <td>0.0</td>\n",
       "      <td>1.0</td>\n",
       "    </tr>\n",
       "    <tr>\n",
       "      <th>1257</th>\n",
       "      <td>TTM</td>\n",
       "      <td>2021-04-15 00:00:00+00:00</td>\n",
       "      <td>20.17</td>\n",
       "      <td>20.23</td>\n",
       "      <td>20.03</td>\n",
       "      <td>20.21</td>\n",
       "      <td>775500</td>\n",
       "      <td>20.17</td>\n",
       "      <td>20.23</td>\n",
       "      <td>20.03</td>\n",
       "      <td>20.21</td>\n",
       "      <td>775500</td>\n",
       "      <td>0.0</td>\n",
       "      <td>1.0</td>\n",
       "    </tr>\n",
       "  </tbody>\n",
       "</table>\n",
       "</div>"
      ],
      "text/plain": [
       "     symbol                       date  close   high    low   open   volume  \\\n",
       "1253    TTM  2021-04-09 00:00:00+00:00  21.24  21.24  20.96  21.06   688764   \n",
       "1254    TTM  2021-04-12 00:00:00+00:00  18.56  19.22  18.56  19.16  3509402   \n",
       "1255    TTM  2021-04-13 00:00:00+00:00  19.66  20.09  19.58  20.03  2334295   \n",
       "1256    TTM  2021-04-14 00:00:00+00:00  20.05  20.34  19.89  19.89  1293354   \n",
       "1257    TTM  2021-04-15 00:00:00+00:00  20.17  20.23  20.03  20.21   775500   \n",
       "\n",
       "      adjClose  adjHigh  adjLow  adjOpen  adjVolume  divCash  splitFactor  \n",
       "1253     21.24    21.24   20.96    21.06     688764      0.0          1.0  \n",
       "1254     18.56    19.22   18.56    19.16    3509402      0.0          1.0  \n",
       "1255     19.66    20.09   19.58    20.03    2334295      0.0          1.0  \n",
       "1256     20.05    20.34   19.89    19.89    1293354      0.0          1.0  \n",
       "1257     20.17    20.23   20.03    20.21     775500      0.0          1.0  "
      ]
     },
     "execution_count": 86,
     "metadata": {},
     "output_type": "execute_result"
    }
   ],
   "source": [
    "df.tail()"
   ]
  },
  {
   "cell_type": "code",
   "execution_count": 87,
   "metadata": {},
   "outputs": [],
   "source": [
    "df1=df.reset_index()['close']"
   ]
  },
  {
   "cell_type": "code",
   "execution_count": 88,
   "metadata": {},
   "outputs": [
    {
     "data": {
      "text/plain": [
       "(1258,)"
      ]
     },
     "execution_count": 88,
     "metadata": {},
     "output_type": "execute_result"
    }
   ],
   "source": [
    "df1.shape"
   ]
  },
  {
   "cell_type": "markdown",
   "metadata": {},
   "source": [
    "# Plotting the current stock market graph"
   ]
  },
  {
   "cell_type": "code",
   "execution_count": 89,
   "metadata": {},
   "outputs": [
    {
     "data": {
      "text/plain": [
       "[<matplotlib.lines.Line2D at 0x1bd95990688>]"
      ]
     },
     "execution_count": 89,
     "metadata": {},
     "output_type": "execute_result"
    },
    {
     "data": {
      "image/png": "[encoded data removed]",
      "text/plain": [
       "<Figure size 432x288 with 1 Axes>"
      ]
     },
     "metadata": {
      "needs_background": "light"
     },
     "output_type": "display_data"
    }
   ],
   "source": [
    "plt.plot(df1)"
   ]
  },
  {
   "cell_type": "code",
   "execution_count": 90,
   "metadata": {},
   "outputs": [],
   "source": [
    "from sklearn.preprocessing import MinMaxScaler\n",
    "scaler=MinMaxScaler(feature_range=(0,1))\n",
    "df1=scaler.fit_transform(np.array(df1).reshape(-1,1))"
   ]
  },
  {
   "cell_type": "code",
   "execution_count": 91,
   "metadata": {},
   "outputs": [
    {
     "data": {
      "text/plain": [
       "array([[0.65804526],\n",
       "       [0.66426262],\n",
       "       [0.66451132],\n",
       "       ...,\n",
       "       [0.3874658 ],\n",
       "       [0.39716488],\n",
       "       [0.40014922]])"
      ]
     },
     "execution_count": 91,
     "metadata": {},
     "output_type": "execute_result"
    }
   ],
   "source": [
    "df1"
   ]
  },
  {
   "cell_type": "markdown",
   "metadata": {},
   "source": [
    "# Spliting the dataset into train and test "
   ]
  },
  {
   "cell_type": "code",
   "execution_count": 92,
   "metadata": {},
   "outputs": [],
   "source": [
    "training_size=int(len(df1)*0.65)\n",
    "test_size=len(df1)-training_size\n",
    "train_data,test_data=df1[0:training_size,:],df1[training_size:len(df1),:1]"
   ]
  },
  {
   "cell_type": "code",
   "execution_count": 93,
   "metadata": {},
   "outputs": [
    {
     "data": {
      "text/plain": [
       "(817, 441)"
      ]
     },
     "execution_count": 93,
     "metadata": {},
     "output_type": "execute_result"
    }
   ],
   "source": [
    "training_size,test_size"
   ]
  },
  {
   "cell_type": "markdown",
   "metadata": {},
   "source": [
    "# Converting an array of values into a dataset matrix"
   ]
  },
  {
   "cell_type": "code",
   "execution_count": 94,
   "metadata": {},
   "outputs": [],
   "source": [
    "def create_dataset(dataset, time_step=1):\n",
    "    dataX, dataY = [] , []\n",
    "    for i in range(len(dataset)-time_step-1):\n",
    "        a = dataset[i:(i+time_step), 0] \n",
    "        dataX.append(a)\n",
    "        dataY.append(dataset[i + time_step, 0])\n",
    "    return numpy.array(dataX), numpy.array(dataY)"
   ]
  },
  {
   "cell_type": "code",
   "execution_count": 95,
   "metadata": {},
   "outputs": [],
   "source": [
    "#reshape into X=t,t+1,t+2,t+3 and Y=t+4\n",
    "import numpy\n",
    "time_step = 100\n",
    "X_train , y_train = create_dataset(train_data, time_step)\n",
    "X_test, y_test = create_dataset(test_data, time_step)"
   ]
  },
  {
   "cell_type": "code",
   "execution_count": 96,
   "metadata": {},
   "outputs": [
    {
     "name": "stdout",
     "output_type": "stream",
     "text": [
      "(716, 100)\n",
      "(716,)\n"
     ]
    },
    {
     "data": {
      "text/plain": [
       "(None, None)"
      ]
     },
     "execution_count": 96,
     "metadata": {},
     "output_type": "execute_result"
    }
   ],
   "source": [
    "print(X_train.shape), print(y_train.shape)"
   ]
  },
  {
   "cell_type": "code",
   "execution_count": 97,
   "metadata": {},
   "outputs": [
    {
     "name": "stdout",
     "output_type": "stream",
     "text": [
      "(340, 100)\n",
      "(340,)\n"
     ]
    },
    {
     "data": {
      "text/plain": [
       "(None, None)"
      ]
     },
     "execution_count": 97,
     "metadata": {},
     "output_type": "execute_result"
    }
   ],
   "source": [
    "print(X_test.shape), print(y_test.shape)"
   ]
  },
  {
   "cell_type": "markdown",
   "metadata": {},
   "source": [
    "# Reshaping input to be samples, time steps,features for LSTM"
   ]
  },
  {
   "cell_type": "code",
   "execution_count": 98,
   "metadata": {},
   "outputs": [],
   "source": [
    "X_train = X_train.reshape(X_train.shape[0],X_train.shape[1] , 1)\n",
    "X_test = X_test.reshape(X_test.shape[0],X_test.shape[1] , 1)"
   ]
  },
  {
   "cell_type": "markdown",
   "metadata": {},
   "source": [
    "# Creating the STACKED LSTM model"
   ]
  },
  {
   "cell_type": "code",
   "execution_count": 99,
   "metadata": {},
   "outputs": [],
   "source": [
    "\n",
    "from tensorflow.keras.models import Sequential\n",
    "from tensorflow.keras.layers import Dense\n",
    "from tensorflow.keras.layers import LSTM\n"
   ]
  },
  {
   "cell_type": "code",
   "execution_count": 100,
   "metadata": {},
   "outputs": [],
   "source": [
    "model=Sequential()\n",
    "model.add(LSTM(50,return_sequences=True,input_shape=(100,1)))\n",
    "model.add(LSTM(50,return_sequences=True))\n",
    "model.add(LSTM(50))\n",
    "model.add(Dense(1))\n",
    "model.compile(loss='mean_squared_error',optimizer='adam')"
   ]
  },
  {
   "cell_type": "code",
   "execution_count": 101,
   "metadata": {},
   "outputs": [
    {
     "name": "stdout",
     "output_type": "stream",
     "text": [
      "Model: \"sequential_2\"\n",
      "_________________________________________________________________\n",
      "Layer (type)                 Output Shape              Param #   \n",
      "=================================================================\n",
      "lstm_6 (LSTM)                (None, 100, 50)           10400     \n",
      "_________________________________________________________________\n",
      "lstm_7 (LSTM)                (None, 100, 50)           20200     \n",
      "_________________________________________________________________\n",
      "lstm_8 (LSTM)                (None, 50)                20200     \n",
      "_________________________________________________________________\n",
      "dense_2 (Dense)              (None, 1)                 51        \n",
      "=================================================================\n",
      "Total params: 50,851\n",
      "Trainable params: 50,851\n",
      "Non-trainable params: 0\n",
      "_________________________________________________________________\n"
     ]
    }
   ],
   "source": [
    "model.summary()"
   ]
  },
  {
   "cell_type": "markdown",
   "metadata": {},
   "source": [
    "# Training the model for 100 epochs"
   ]
  },
  {
   "cell_type": "code",
   "execution_count": 102,
   "metadata": {},
   "outputs": [
    {
     "name": "stdout",
     "output_type": "stream",
     "text": [
      "Train on 716 samples, validate on 340 samples\n",
      "Epoch 1/100\n",
      "716/716 [==============================] - 7s 10ms/sample - loss: 0.1436 - val_loss: 0.0255\n",
      "Epoch 2/100\n",
      "716/716 [==============================] - 5s 7ms/sample - loss: 0.0176 - val_loss: 0.0142\n",
      "Epoch 3/100\n",
      "716/716 [==============================] - 5s 7ms/sample - loss: 0.0088 - val_loss: 0.0076\n",
      "Epoch 4/100\n",
      "716/716 [==============================] - 6s 8ms/sample - loss: 0.0057 - val_loss: 0.0060\n",
      "Epoch 5/100\n",
      "716/716 [==============================] - 6s 8ms/sample - loss: 0.0026 - val_loss: 0.0023\n",
      "Epoch 6/100\n",
      "716/716 [==============================] - 6s 8ms/sample - loss: 0.0017 - val_loss: 0.0015\n",
      "Epoch 7/100\n",
      "716/716 [==============================] - 5s 7ms/sample - loss: 0.0016 - val_loss: 0.0016\n",
      "Epoch 8/100\n",
      "716/716 [==============================] - 5s 7ms/sample - loss: 0.0014 - val_loss: 0.0016\n",
      "Epoch 9/100\n",
      "716/716 [==============================] - 5s 7ms/sample - loss: 0.0015 - val_loss: 0.0015\n",
      "Epoch 10/100\n",
      "716/716 [==============================] - 5s 7ms/sample - loss: 0.0016 - val_loss: 0.0014\n",
      "Epoch 11/100\n",
      "716/716 [==============================] - 5s 7ms/sample - loss: 0.0014 - val_loss: 0.0014\n",
      "Epoch 12/100\n",
      "716/716 [==============================] - 5s 7ms/sample - loss: 0.0014 - val_loss: 0.0014\n",
      "Epoch 13/100\n",
      "716/716 [==============================] - 5s 8ms/sample - loss: 0.0014 - val_loss: 0.0014\n",
      "Epoch 14/100\n",
      "716/716 [==============================] - 5s 7ms/sample - loss: 0.0014 - val_loss: 0.0014\n",
      "Epoch 15/100\n",
      "716/716 [==============================] - 5s 7ms/sample - loss: 0.0014 - val_loss: 0.0014\n",
      "Epoch 16/100\n",
      "716/716 [==============================] - 5s 7ms/sample - loss: 0.0014 - val_loss: 0.0013\n",
      "Epoch 17/100\n",
      "716/716 [==============================] - 5s 7ms/sample - loss: 0.0015 - val_loss: 0.0013\n",
      "Epoch 18/100\n",
      "716/716 [==============================] - 5s 7ms/sample - loss: 0.0014 - val_loss: 0.0014\n",
      "Epoch 19/100\n",
      "716/716 [==============================] - 5s 7ms/sample - loss: 0.0014 - val_loss: 0.0013\n",
      "Epoch 20/100\n",
      "716/716 [==============================] - 5s 7ms/sample - loss: 0.0013 - val_loss: 0.0014\n",
      "Epoch 21/100\n",
      "716/716 [==============================] - 5s 7ms/sample - loss: 0.0015 - val_loss: 0.0014\n",
      "Epoch 22/100\n",
      "716/716 [==============================] - 5s 7ms/sample - loss: 0.0014 - val_loss: 0.0012\n",
      "Epoch 23/100\n",
      "716/716 [==============================] - 5s 7ms/sample - loss: 0.0014 - val_loss: 0.0012\n",
      "Epoch 24/100\n",
      "716/716 [==============================] - 5s 7ms/sample - loss: 0.0013 - val_loss: 0.0012\n",
      "Epoch 25/100\n",
      "716/716 [==============================] - 5s 7ms/sample - loss: 0.0013 - val_loss: 0.0012\n",
      "Epoch 26/100\n",
      "716/716 [==============================] - 5s 7ms/sample - loss: 0.0013 - val_loss: 0.0012\n",
      "Epoch 27/100\n",
      "716/716 [==============================] - 5s 8ms/sample - loss: 0.0013 - val_loss: 0.0012\n",
      "Epoch 28/100\n",
      "716/716 [==============================] - 5s 7ms/sample - loss: 0.0013 - val_loss: 0.0012\n",
      "Epoch 29/100\n",
      "716/716 [==============================] - 5s 7ms/sample - loss: 0.0013 - val_loss: 0.0012\n",
      "Epoch 30/100\n",
      "716/716 [==============================] - 5s 7ms/sample - loss: 0.0013 - val_loss: 0.0012\n",
      "Epoch 31/100\n",
      "716/716 [==============================] - 5s 7ms/sample - loss: 0.0012 - val_loss: 0.0011\n",
      "Epoch 32/100\n",
      "716/716 [==============================] - 5s 7ms/sample - loss: 0.0012 - val_loss: 0.0011\n",
      "Epoch 33/100\n",
      "716/716 [==============================] - 5s 7ms/sample - loss: 0.0013 - val_loss: 0.0012\n",
      "Epoch 34/100\n",
      "716/716 [==============================] - 5s 7ms/sample - loss: 0.0013 - val_loss: 0.0010\n",
      "Epoch 35/100\n",
      "716/716 [==============================] - 5s 7ms/sample - loss: 0.0013 - val_loss: 0.0011\n",
      "Epoch 36/100\n",
      "716/716 [==============================] - 5s 7ms/sample - loss: 0.0012 - val_loss: 0.0011\n",
      "Epoch 37/100\n",
      "716/716 [==============================] - 5s 7ms/sample - loss: 0.0013 - val_loss: 0.0011\n",
      "Epoch 38/100\n",
      "716/716 [==============================] - 5s 7ms/sample - loss: 0.0017 - val_loss: 0.0010\n",
      "Epoch 39/100\n",
      "716/716 [==============================] - 5s 7ms/sample - loss: 0.0012 - val_loss: 9.9845e-04\n",
      "Epoch 40/100\n",
      "716/716 [==============================] - 5s 8ms/sample - loss: 0.0013 - val_loss: 0.0011\n",
      "Epoch 41/100\n",
      "716/716 [==============================] - 5s 7ms/sample - loss: 0.0012 - val_loss: 9.9423e-04\n",
      "Epoch 42/100\n",
      "716/716 [==============================] - 5s 7ms/sample - loss: 0.0012 - val_loss: 9.8115e-04\n",
      "Epoch 43/100\n",
      "716/716 [==============================] - 5s 7ms/sample - loss: 0.0011 - val_loss: 9.0992e-04\n",
      "Epoch 44/100\n",
      "716/716 [==============================] - 5s 7ms/sample - loss: 0.0011 - val_loss: 0.0011\n",
      "Epoch 45/100\n",
      "716/716 [==============================] - 6s 8ms/sample - loss: 0.0012 - val_loss: 8.9019e-04\n",
      "Epoch 46/100\n",
      "716/716 [==============================] - 6s 8ms/sample - loss: 0.0011 - val_loss: 9.0794e-04\n",
      "Epoch 47/100\n",
      "716/716 [==============================] - 6s 8ms/sample - loss: 0.0010 - val_loss: 9.5190e-04\n",
      "Epoch 48/100\n",
      "716/716 [==============================] - 5s 7ms/sample - loss: 0.0011 - val_loss: 8.5864e-04\n",
      "Epoch 49/100\n",
      "716/716 [==============================] - 5s 7ms/sample - loss: 0.0010 - val_loss: 8.4490e-04\n",
      "Epoch 50/100\n",
      "716/716 [==============================] - 5s 7ms/sample - loss: 0.0010 - val_loss: 8.6820e-04\n",
      "Epoch 51/100\n",
      "716/716 [==============================] - 5s 8ms/sample - loss: 0.0011 - val_loss: 8.2969e-04\n",
      "Epoch 52/100\n",
      "716/716 [==============================] - 5s 7ms/sample - loss: 0.0010 - val_loss: 8.3943e-04\n",
      "Epoch 53/100\n",
      "716/716 [==============================] - 5s 7ms/sample - loss: 9.4041e-04 - val_loss: 8.0196e-04\n",
      "Epoch 54/100\n",
      "716/716 [==============================] - 5s 8ms/sample - loss: 0.0010 - val_loss: 9.2631e-04\n",
      "Epoch 55/100\n",
      "716/716 [==============================] - 5s 7ms/sample - loss: 0.0012 - val_loss: 8.2782e-04\n",
      "Epoch 56/100\n",
      "716/716 [==============================] - 5s 7ms/sample - loss: 9.8236e-04 - val_loss: 7.6195e-04\n",
      "Epoch 57/100\n",
      "716/716 [==============================] - 5s 7ms/sample - loss: 0.0011 - val_loss: 9.4919e-04\n",
      "Epoch 58/100\n",
      "716/716 [==============================] - 5s 7ms/sample - loss: 9.9757e-04 - val_loss: 8.2691e-04\n",
      "Epoch 59/100\n",
      "716/716 [==============================] - 5s 7ms/sample - loss: 9.9985e-04 - val_loss: 7.3700e-04\n",
      "Epoch 60/100\n",
      "716/716 [==============================] - 5s 8ms/sample - loss: 9.7572e-04 - val_loss: 8.2274e-04\n",
      "Epoch 61/100\n",
      "716/716 [==============================] - 5s 7ms/sample - loss: 8.4160e-04 - val_loss: 7.1858e-04\n",
      "Epoch 62/100\n",
      "716/716 [==============================] - 5s 7ms/sample - loss: 9.0573e-04 - val_loss: 7.4777e-04\n",
      "Epoch 63/100\n",
      "716/716 [==============================] - 5s 7ms/sample - loss: 8.5111e-04 - val_loss: 7.5100e-04\n",
      "Epoch 64/100\n",
      "716/716 [==============================] - 5s 7ms/sample - loss: 9.3129e-04 - val_loss: 7.0013e-04\n",
      "Epoch 65/100\n",
      "716/716 [==============================] - 5s 7ms/sample - loss: 9.1450e-04 - val_loss: 8.7576e-04\n",
      "Epoch 66/100\n",
      "716/716 [==============================] - 5s 7ms/sample - loss: 0.0010 - val_loss: 6.9445e-04\n",
      "Epoch 67/100\n",
      "716/716 [==============================] - 5s 7ms/sample - loss: 9.4664e-04 - val_loss: 6.8551e-04\n",
      "Epoch 68/100\n",
      "716/716 [==============================] - 5s 7ms/sample - loss: 8.5597e-04 - val_loss: 7.9029e-04\n",
      "Epoch 69/100\n",
      "716/716 [==============================] - 5s 8ms/sample - loss: 8.4484e-04 - val_loss: 6.8209e-04\n",
      "Epoch 70/100\n",
      "716/716 [==============================] - 5s 7ms/sample - loss: 8.7569e-04 - val_loss: 7.2422e-04\n",
      "Epoch 71/100\n",
      "716/716 [==============================] - 5s 7ms/sample - loss: 8.6954e-04 - val_loss: 7.4582e-04\n",
      "Epoch 72/100\n",
      "716/716 [==============================] - 5s 7ms/sample - loss: 8.2279e-04 - val_loss: 7.1578e-04\n",
      "Epoch 73/100\n",
      "716/716 [==============================] - 5s 7ms/sample - loss: 7.8038e-04 - val_loss: 6.5922e-04\n",
      "Epoch 74/100\n",
      "716/716 [==============================] - 5s 7ms/sample - loss: 7.9447e-04 - val_loss: 6.4701e-04\n",
      "Epoch 75/100\n",
      "716/716 [==============================] - 5s 7ms/sample - loss: 7.7343e-04 - val_loss: 6.6962e-04\n",
      "Epoch 76/100\n",
      "716/716 [==============================] - 5s 8ms/sample - loss: 7.2597e-04 - val_loss: 6.6986e-04\n",
      "Epoch 77/100\n",
      "716/716 [==============================] - 5s 8ms/sample - loss: 7.2088e-04 - val_loss: 7.0752e-04\n",
      "Epoch 78/100\n",
      "716/716 [==============================] - 5s 7ms/sample - loss: 7.4900e-04 - val_loss: 6.4300e-04\n",
      "Epoch 79/100\n",
      "716/716 [==============================] - 5s 7ms/sample - loss: 7.5420e-04 - val_loss: 6.5136e-04\n",
      "Epoch 80/100\n",
      "716/716 [==============================] - 5s 7ms/sample - loss: 7.2975e-04 - val_loss: 6.6926e-04\n",
      "Epoch 81/100\n",
      "716/716 [==============================] - 5s 8ms/sample - loss: 7.9112e-04 - val_loss: 6.7723e-04\n",
      "Epoch 82/100\n",
      "716/716 [==============================] - 5s 7ms/sample - loss: 7.4418e-04 - val_loss: 6.5282e-04\n",
      "Epoch 83/100\n",
      "716/716 [==============================] - 5s 7ms/sample - loss: 6.9009e-04 - val_loss: 6.1575e-04\n",
      "Epoch 84/100\n",
      "716/716 [==============================] - 5s 7ms/sample - loss: 6.6767e-04 - val_loss: 6.6970e-04\n",
      "Epoch 85/100\n",
      "716/716 [==============================] - 5s 7ms/sample - loss: 6.9904e-04 - val_loss: 6.0411e-04\n",
      "Epoch 86/100\n",
      "716/716 [==============================] - 5s 7ms/sample - loss: 7.4567e-04 - val_loss: 6.3838e-04\n",
      "Epoch 87/100\n",
      "716/716 [==============================] - 5s 7ms/sample - loss: 7.2601e-04 - val_loss: 6.3431e-04\n",
      "Epoch 88/100\n",
      "716/716 [==============================] - 5s 7ms/sample - loss: 6.9894e-04 - val_loss: 6.0781e-04\n",
      "Epoch 89/100\n",
      "716/716 [==============================] - 5s 7ms/sample - loss: 8.0244e-04 - val_loss: 6.0012e-04\n",
      "Epoch 90/100\n",
      "716/716 [==============================] - 5s 7ms/sample - loss: 7.0294e-04 - val_loss: 6.1776e-04\n",
      "Epoch 91/100\n",
      "716/716 [==============================] - 5s 7ms/sample - loss: 6.4711e-04 - val_loss: 5.8603e-04\n",
      "Epoch 92/100\n",
      "716/716 [==============================] - 5s 7ms/sample - loss: 7.1089e-04 - val_loss: 6.1310e-04\n",
      "Epoch 93/100\n",
      "716/716 [==============================] - 5s 7ms/sample - loss: 6.5375e-04 - val_loss: 6.2333e-04\n",
      "Epoch 94/100\n",
      "716/716 [==============================] - 5s 7ms/sample - loss: 6.2319e-04 - val_loss: 5.8525e-04\n",
      "Epoch 95/100\n",
      "716/716 [==============================] - 5s 7ms/sample - loss: 6.3102e-04 - val_loss: 5.6805e-04\n",
      "Epoch 96/100\n",
      "716/716 [==============================] - 5s 7ms/sample - loss: 6.3030e-04 - val_loss: 6.1824e-04\n",
      "Epoch 97/100\n",
      "716/716 [==============================] - 5s 7ms/sample - loss: 6.3366e-04 - val_loss: 5.7987e-04\n",
      "Epoch 98/100\n",
      "716/716 [==============================] - 5s 7ms/sample - loss: 6.0172e-04 - val_loss: 5.6993e-04\n",
      "Epoch 99/100\n",
      "716/716 [==============================] - 5s 7ms/sample - loss: 6.0828e-04 - val_loss: 6.1295e-04\n",
      "Epoch 100/100\n",
      "716/716 [==============================] - 5s 7ms/sample - loss: 6.2039e-04 - val_loss: 5.5659e-04\n"
     ]
    },
    {
     "data": {
      "text/plain": [
       "<tensorflow.python.keras.callbacks.History at 0x1bd9ac25608>"
      ]
     },
     "execution_count": 102,
     "metadata": {},
     "output_type": "execute_result"
    }
   ],
   "source": [
    "model.fit(X_train,y_train,validation_data=(X_test,y_test),epochs=100,batch_size=64,verbose=1)"
   ]
  },
  {
   "cell_type": "code",
   "execution_count": 116,
   "metadata": {},
   "outputs": [],
   "source": [
    "import tensorflow as tf"
   ]
  },
  {
   "cell_type": "code",
   "execution_count": 117,
   "metadata": {},
   "outputs": [
    {
     "data": {
      "text/plain": [
       "'1.14.0'"
      ]
     },
     "execution_count": 117,
     "metadata": {},
     "output_type": "execute_result"
    }
   ],
   "source": [
    "tf.__version__"
   ]
  },
  {
   "cell_type": "code",
   "execution_count": 152,
   "metadata": {},
   "outputs": [],
   "source": [
    "#check performance metrics\n",
    "train_predict=model.predict(X_train)\n",
    "test_predict=model.predict(X_test)"
   ]
  },
  {
   "cell_type": "code",
   "execution_count": 153,
   "metadata": {},
   "outputs": [],
   "source": [
    "#Transformback to original form\n",
    "train_predict=scaler.inverse_transform(train_predict)\n",
    "test_predict=scaler.inverse_transform(test_predict)"
   ]
  },
  {
   "cell_type": "markdown",
   "metadata": {},
   "source": [
    "# Calculate RMSE performance metrics"
   ]
  },
  {
   "cell_type": "code",
   "execution_count": 120,
   "metadata": {},
   "outputs": [
    {
     "data": {
      "text/plain": [
       "27.17048191267213"
      ]
     },
     "execution_count": 120,
     "metadata": {},
     "output_type": "execute_result"
    }
   ],
   "source": [
    "import math\n",
    "from sklearn.metrics import mean_squared_error\n",
    "math.sqrt(mean_squared_error(y_train,train_predict))"
   ]
  },
  {
   "cell_type": "code",
   "execution_count": 121,
   "metadata": {},
   "outputs": [
    {
     "data": {
      "text/plain": [
       "12.037956311923937"
      ]
     },
     "execution_count": 121,
     "metadata": {},
     "output_type": "execute_result"
    }
   ],
   "source": [
    "# Test Data RMSE\n",
    "math.sqrt(mean_squared_error(y_test,test_predict))"
   ]
  },
  {
   "cell_type": "markdown",
   "metadata": {},
   "source": [
    "# Shift train predictions for plotting"
   ]
  },
  {
   "cell_type": "code",
   "execution_count": 122,
   "metadata": {},
   "outputs": [
    {
     "data": {
      "image/png": "[encoded data removed]",
      "text/plain": [
       "<Figure size 432x288 with 1 Axes>"
      ]
     },
     "metadata": {
      "needs_background": "light"
     },
     "output_type": "display_data"
    }
   ],
   "source": [
    "look_back=100\n",
    "trainPredictPlot = numpy.empty_like(df1)\n",
    "trainPredictPlot[:, :] = np.nan\n",
    "trainPredictPlot[look_back:len(train_predict)+look_back, :] = train_predict\n",
    "# shift test predictions for plotting\n",
    "testPredictPlot = numpy.empty_like(df1)\n",
    "testPredictPlot[:, :] = numpy.nan\n",
    "testPredictPlot[len(train_predict)+(look_back*2)+1:len(df1)-1, :] = test_predict\n",
    "# plot baseline and predictions\n",
    "plt.plot(scaler.inverse_transform(df1))\n",
    "plt.plot(trainPredictPlot)\n",
    "plt.plot(testPredictPlot)\n",
    "plt.show()"
   ]
  },
  {
   "cell_type": "code",
   "execution_count": 123,
   "metadata": {},
   "outputs": [
    {
     "data": {
      "text/plain": [
       "441"
      ]
     },
     "execution_count": 123,
     "metadata": {},
     "output_type": "execute_result"
    }
   ],
   "source": [
    "len(test_data)"
   ]
  },
  {
   "cell_type": "code",
   "execution_count": 137,
   "metadata": {},
   "outputs": [
    {
     "data": {
      "text/plain": [
       "(1, 100)"
      ]
     },
     "execution_count": 137,
     "metadata": {},
     "output_type": "execute_result"
    }
   ],
   "source": [
    "x_input=test_data[341:].reshape(1,-1)\n",
    "x_input.shape"
   ]
  },
  {
   "cell_type": "code",
   "execution_count": 138,
   "metadata": {},
   "outputs": [],
   "source": [
    "x_input=test_data[341:].reshape(1,-1)"
   ]
  },
  {
   "cell_type": "code",
   "execution_count": 139,
   "metadata": {},
   "outputs": [
    {
     "data": {
      "text/plain": [
       "(1, 100)"
      ]
     },
     "execution_count": 139,
     "metadata": {},
     "output_type": "execute_result"
    }
   ],
   "source": [
    "x_input.shape"
   ]
  },
  {
   "cell_type": "code",
   "execution_count": 140,
   "metadata": {},
   "outputs": [],
   "source": [
    "temp_input=list(x_input)\n",
    "temp_input=temp_input[0].tolist()"
   ]
  },
  {
   "cell_type": "markdown",
   "metadata": {},
   "source": [
    "# Prediction for next 10 days"
   ]
  },
  {
   "cell_type": "code",
   "execution_count": 141,
   "metadata": {},
   "outputs": [
    {
     "name": "stdout",
     "output_type": "stream",
     "text": [
      "[0.39607465]\n",
      "101\n",
      "1 day input [0.17930863 0.18353643 0.1895051  0.19149465 0.20641631 0.19547376\n",
      " 0.21114151 0.21288237 0.21337976 0.20964934 0.20989804 0.20815717\n",
      " 0.20641631 0.19671723 0.19995026 0.19671723 0.20542154 0.21114151\n",
      " 0.20467545 0.20144243 0.17682169 0.17358866 0.18826163 0.19199204\n",
      " 0.20940065 0.20591893 0.21188759 0.21188759 0.2158667  0.22929619\n",
      " 0.23029097 0.23302661 0.23849789 0.29395673 0.31012186 0.30315842\n",
      " 0.31857747 0.33523999 0.33822432 0.36955981 0.39741358 0.38522756\n",
      " 0.35986073 0.35737379 0.34170604 0.36010943 0.34145735 0.38398408\n",
      " 0.44988809 0.46107933 0.45336981 0.43422034 0.47973141 0.45560806\n",
      " 0.45162895 0.45187764 0.46008456 0.45088286 0.45461328 0.44242726\n",
      " 0.43148471 0.41979607 0.44391942 0.44889331 0.44864462 0.44541159\n",
      " 0.45983586 0.47923402 0.48097488 0.458095   0.4536185  0.43745337\n",
      " 0.43919423 0.44342203 0.45734892 0.4449142  0.44292465 0.44093509\n",
      " 0.42899776 0.41357871 0.42626212 0.41904999 0.41258393 0.39393186\n",
      " 0.3919423  0.40586919 0.4051231  0.40885352 0.41556827 0.42153693\n",
      " 0.41904999 0.41681174 0.40711266 0.41929868 0.42675951 0.36010943\n",
      " 0.3874658  0.39716488 0.40014922 0.39607465]\n",
      "1 day output [[0.3922277]]\n",
      "2 day input [0.18353643 0.1895051  0.19149465 0.20641631 0.19547376 0.21114151\n",
      " 0.21288237 0.21337976 0.20964934 0.20989804 0.20815717 0.20641631\n",
      " 0.19671723 0.19995026 0.19671723 0.20542154 0.21114151 0.20467545\n",
      " 0.20144243 0.17682169 0.17358866 0.18826163 0.19199204 0.20940065\n",
      " 0.20591893 0.21188759 0.21188759 0.2158667  0.22929619 0.23029097\n",
      " 0.23302661 0.23849789 0.29395673 0.31012186 0.30315842 0.31857747\n",
      " 0.33523999 0.33822432 0.36955981 0.39741358 0.38522756 0.35986073\n",
      " 0.35737379 0.34170604 0.36010943 0.34145735 0.38398408 0.44988809\n",
      " 0.46107933 0.45336981 0.43422034 0.47973141 0.45560806 0.45162895\n",
      " 0.45187764 0.46008456 0.45088286 0.45461328 0.44242726 0.43148471\n",
      " 0.41979607 0.44391942 0.44889331 0.44864462 0.44541159 0.45983586\n",
      " 0.47923402 0.48097488 0.458095   0.4536185  0.43745337 0.43919423\n",
      " 0.44342203 0.45734892 0.4449142  0.44292465 0.44093509 0.42899776\n",
      " 0.41357871 0.42626212 0.41904999 0.41258393 0.39393186 0.3919423\n",
      " 0.40586919 0.4051231  0.40885352 0.41556827 0.42153693 0.41904999\n",
      " 0.41681174 0.40711266 0.41929868 0.42675951 0.36010943 0.3874658\n",
      " 0.39716488 0.40014922 0.39607465 0.39222771]\n",
      "2 day output [[0.38971007]]\n",
      "3 day input [0.1895051  0.19149465 0.20641631 0.19547376 0.21114151 0.21288237\n",
      " 0.21337976 0.20964934 0.20989804 0.20815717 0.20641631 0.19671723\n",
      " 0.19995026 0.19671723 0.20542154 0.21114151 0.20467545 0.20144243\n",
      " 0.17682169 0.17358866 0.18826163 0.19199204 0.20940065 0.20591893\n",
      " 0.21188759 0.21188759 0.2158667  0.22929619 0.23029097 0.23302661\n",
      " 0.23849789 0.29395673 0.31012186 0.30315842 0.31857747 0.33523999\n",
      " 0.33822432 0.36955981 0.39741358 0.38522756 0.35986073 0.35737379\n",
      " 0.34170604 0.36010943 0.34145735 0.38398408 0.44988809 0.46107933\n",
      " 0.45336981 0.43422034 0.47973141 0.45560806 0.45162895 0.45187764\n",
      " 0.46008456 0.45088286 0.45461328 0.44242726 0.43148471 0.41979607\n",
      " 0.44391942 0.44889331 0.44864462 0.44541159 0.45983586 0.47923402\n",
      " 0.48097488 0.458095   0.4536185  0.43745337 0.43919423 0.44342203\n",
      " 0.45734892 0.4449142  0.44292465 0.44093509 0.42899776 0.41357871\n",
      " 0.42626212 0.41904999 0.41258393 0.39393186 0.3919423  0.40586919\n",
      " 0.4051231  0.40885352 0.41556827 0.42153693 0.41904999 0.41681174\n",
      " 0.40711266 0.41929868 0.42675951 0.36010943 0.3874658  0.39716488\n",
      " 0.40014922 0.39607465 0.39222771 0.38971007]\n",
      "3 day output [[0.38809857]]\n",
      "4 day input [0.19149465 0.20641631 0.19547376 0.21114151 0.21288237 0.21337976\n",
      " 0.20964934 0.20989804 0.20815717 0.20641631 0.19671723 0.19995026\n",
      " 0.19671723 0.20542154 0.21114151 0.20467545 0.20144243 0.17682169\n",
      " 0.17358866 0.18826163 0.19199204 0.20940065 0.20591893 0.21188759\n",
      " 0.21188759 0.2158667  0.22929619 0.23029097 0.23302661 0.23849789\n",
      " 0.29395673 0.31012186 0.30315842 0.31857747 0.33523999 0.33822432\n",
      " 0.36955981 0.39741358 0.38522756 0.35986073 0.35737379 0.34170604\n",
      " 0.36010943 0.34145735 0.38398408 0.44988809 0.46107933 0.45336981\n",
      " 0.43422034 0.47973141 0.45560806 0.45162895 0.45187764 0.46008456\n",
      " 0.45088286 0.45461328 0.44242726 0.43148471 0.41979607 0.44391942\n",
      " 0.44889331 0.44864462 0.44541159 0.45983586 0.47923402 0.48097488\n",
      " 0.458095   0.4536185  0.43745337 0.43919423 0.44342203 0.45734892\n",
      " 0.4449142  0.44292465 0.44093509 0.42899776 0.41357871 0.42626212\n",
      " 0.41904999 0.41258393 0.39393186 0.3919423  0.40586919 0.4051231\n",
      " 0.40885352 0.41556827 0.42153693 0.41904999 0.41681174 0.40711266\n",
      " 0.41929868 0.42675951 0.36010943 0.3874658  0.39716488 0.40014922\n",
      " 0.39607465 0.39222771 0.38971007 0.38809857]\n",
      "4 day output [[0.38696757]]\n",
      "5 day input [0.20641631 0.19547376 0.21114151 0.21288237 0.21337976 0.20964934\n",
      " 0.20989804 0.20815717 0.20641631 0.19671723 0.19995026 0.19671723\n",
      " 0.20542154 0.21114151 0.20467545 0.20144243 0.17682169 0.17358866\n",
      " 0.18826163 0.19199204 0.20940065 0.20591893 0.21188759 0.21188759\n",
      " 0.2158667  0.22929619 0.23029097 0.23302661 0.23849789 0.29395673\n",
      " 0.31012186 0.30315842 0.31857747 0.33523999 0.33822432 0.36955981\n",
      " 0.39741358 0.38522756 0.35986073 0.35737379 0.34170604 0.36010943\n",
      " 0.34145735 0.38398408 0.44988809 0.46107933 0.45336981 0.43422034\n",
      " 0.47973141 0.45560806 0.45162895 0.45187764 0.46008456 0.45088286\n",
      " 0.45461328 0.44242726 0.43148471 0.41979607 0.44391942 0.44889331\n",
      " 0.44864462 0.44541159 0.45983586 0.47923402 0.48097488 0.458095\n",
      " 0.4536185  0.43745337 0.43919423 0.44342203 0.45734892 0.4449142\n",
      " 0.44292465 0.44093509 0.42899776 0.41357871 0.42626212 0.41904999\n",
      " 0.41258393 0.39393186 0.3919423  0.40586919 0.4051231  0.40885352\n",
      " 0.41556827 0.42153693 0.41904999 0.41681174 0.40711266 0.41929868\n",
      " 0.42675951 0.36010943 0.3874658  0.39716488 0.40014922 0.39607465\n",
      " 0.39222771 0.38971007 0.38809857 0.38696757]\n",
      "5 day output [[0.38601834]]\n",
      "6 day input [0.19547376 0.21114151 0.21288237 0.21337976 0.20964934 0.20989804\n",
      " 0.20815717 0.20641631 0.19671723 0.19995026 0.19671723 0.20542154\n",
      " 0.21114151 0.20467545 0.20144243 0.17682169 0.17358866 0.18826163\n",
      " 0.19199204 0.20940065 0.20591893 0.21188759 0.21188759 0.2158667\n",
      " 0.22929619 0.23029097 0.23302661 0.23849789 0.29395673 0.31012186\n",
      " 0.30315842 0.31857747 0.33523999 0.33822432 0.36955981 0.39741358\n",
      " 0.38522756 0.35986073 0.35737379 0.34170604 0.36010943 0.34145735\n",
      " 0.38398408 0.44988809 0.46107933 0.45336981 0.43422034 0.47973141\n",
      " 0.45560806 0.45162895 0.45187764 0.46008456 0.45088286 0.45461328\n",
      " 0.44242726 0.43148471 0.41979607 0.44391942 0.44889331 0.44864462\n",
      " 0.44541159 0.45983586 0.47923402 0.48097488 0.458095   0.4536185\n",
      " 0.43745337 0.43919423 0.44342203 0.45734892 0.4449142  0.44292465\n",
      " 0.44093509 0.42899776 0.41357871 0.42626212 0.41904999 0.41258393\n",
      " 0.39393186 0.3919423  0.40586919 0.4051231  0.40885352 0.41556827\n",
      " 0.42153693 0.41904999 0.41681174 0.40711266 0.41929868 0.42675951\n",
      " 0.36010943 0.3874658  0.39716488 0.40014922 0.39607465 0.39222771\n",
      " 0.38971007 0.38809857 0.38696757 0.38601834]\n",
      "6 day output [[0.3850925]]\n",
      "7 day input [0.21114151 0.21288237 0.21337976 0.20964934 0.20989804 0.20815717\n",
      " 0.20641631 0.19671723 0.19995026 0.19671723 0.20542154 0.21114151\n",
      " 0.20467545 0.20144243 0.17682169 0.17358866 0.18826163 0.19199204\n",
      " 0.20940065 0.20591893 0.21188759 0.21188759 0.2158667  0.22929619\n",
      " 0.23029097 0.23302661 0.23849789 0.29395673 0.31012186 0.30315842\n",
      " 0.31857747 0.33523999 0.33822432 0.36955981 0.39741358 0.38522756\n",
      " 0.35986073 0.35737379 0.34170604 0.36010943 0.34145735 0.38398408\n",
      " 0.44988809 0.46107933 0.45336981 0.43422034 0.47973141 0.45560806\n",
      " 0.45162895 0.45187764 0.46008456 0.45088286 0.45461328 0.44242726\n",
      " 0.43148471 0.41979607 0.44391942 0.44889331 0.44864462 0.44541159\n",
      " 0.45983586 0.47923402 0.48097488 0.458095   0.4536185  0.43745337\n",
      " 0.43919423 0.44342203 0.45734892 0.4449142  0.44292465 0.44093509\n",
      " 0.42899776 0.41357871 0.42626212 0.41904999 0.41258393 0.39393186\n",
      " 0.3919423  0.40586919 0.4051231  0.40885352 0.41556827 0.42153693\n",
      " 0.41904999 0.41681174 0.40711266 0.41929868 0.42675951 0.36010943\n",
      " 0.3874658  0.39716488 0.40014922 0.39607465 0.39222771 0.38971007\n",
      " 0.38809857 0.38696757 0.38601834 0.3850925 ]\n",
      "7 day output [[0.38413393]]\n",
      "8 day input [0.21288237 0.21337976 0.20964934 0.20989804 0.20815717 0.20641631\n",
      " 0.19671723 0.19995026 0.19671723 0.20542154 0.21114151 0.20467545\n",
      " 0.20144243 0.17682169 0.17358866 0.18826163 0.19199204 0.20940065\n",
      " 0.20591893 0.21188759 0.21188759 0.2158667  0.22929619 0.23029097\n",
      " 0.23302661 0.23849789 0.29395673 0.31012186 0.30315842 0.31857747\n",
      " 0.33523999 0.33822432 0.36955981 0.39741358 0.38522756 0.35986073\n",
      " 0.35737379 0.34170604 0.36010943 0.34145735 0.38398408 0.44988809\n",
      " 0.46107933 0.45336981 0.43422034 0.47973141 0.45560806 0.45162895\n",
      " 0.45187764 0.46008456 0.45088286 0.45461328 0.44242726 0.43148471\n",
      " 0.41979607 0.44391942 0.44889331 0.44864462 0.44541159 0.45983586\n",
      " 0.47923402 0.48097488 0.458095   0.4536185  0.43745337 0.43919423\n",
      " 0.44342203 0.45734892 0.4449142  0.44292465 0.44093509 0.42899776\n",
      " 0.41357871 0.42626212 0.41904999 0.41258393 0.39393186 0.3919423\n",
      " 0.40586919 0.4051231  0.40885352 0.41556827 0.42153693 0.41904999\n",
      " 0.41681174 0.40711266 0.41929868 0.42675951 0.36010943 0.3874658\n",
      " 0.39716488 0.40014922 0.39607465 0.39222771 0.38971007 0.38809857\n",
      " 0.38696757 0.38601834 0.3850925  0.38413393]\n"
     ]
    },
    {
     "name": "stdout",
     "output_type": "stream",
     "text": [
      "8 day output [[0.383141]]\n",
      "9 day input [0.21337976 0.20964934 0.20989804 0.20815717 0.20641631 0.19671723\n",
      " 0.19995026 0.19671723 0.20542154 0.21114151 0.20467545 0.20144243\n",
      " 0.17682169 0.17358866 0.18826163 0.19199204 0.20940065 0.20591893\n",
      " 0.21188759 0.21188759 0.2158667  0.22929619 0.23029097 0.23302661\n",
      " 0.23849789 0.29395673 0.31012186 0.30315842 0.31857747 0.33523999\n",
      " 0.33822432 0.36955981 0.39741358 0.38522756 0.35986073 0.35737379\n",
      " 0.34170604 0.36010943 0.34145735 0.38398408 0.44988809 0.46107933\n",
      " 0.45336981 0.43422034 0.47973141 0.45560806 0.45162895 0.45187764\n",
      " 0.46008456 0.45088286 0.45461328 0.44242726 0.43148471 0.41979607\n",
      " 0.44391942 0.44889331 0.44864462 0.44541159 0.45983586 0.47923402\n",
      " 0.48097488 0.458095   0.4536185  0.43745337 0.43919423 0.44342203\n",
      " 0.45734892 0.4449142  0.44292465 0.44093509 0.42899776 0.41357871\n",
      " 0.42626212 0.41904999 0.41258393 0.39393186 0.3919423  0.40586919\n",
      " 0.4051231  0.40885352 0.41556827 0.42153693 0.41904999 0.41681174\n",
      " 0.40711266 0.41929868 0.42675951 0.36010943 0.3874658  0.39716488\n",
      " 0.40014922 0.39607465 0.39222771 0.38971007 0.38809857 0.38696757\n",
      " 0.38601834 0.3850925  0.38413393 0.38314101]\n",
      "9 day output [[0.3821312]]\n",
      "10 day input [0.20964934 0.20989804 0.20815717 0.20641631 0.19671723 0.19995026\n",
      " 0.19671723 0.20542154 0.21114151 0.20467545 0.20144243 0.17682169\n",
      " 0.17358866 0.18826163 0.19199204 0.20940065 0.20591893 0.21188759\n",
      " 0.21188759 0.2158667  0.22929619 0.23029097 0.23302661 0.23849789\n",
      " 0.29395673 0.31012186 0.30315842 0.31857747 0.33523999 0.33822432\n",
      " 0.36955981 0.39741358 0.38522756 0.35986073 0.35737379 0.34170604\n",
      " 0.36010943 0.34145735 0.38398408 0.44988809 0.46107933 0.45336981\n",
      " 0.43422034 0.47973141 0.45560806 0.45162895 0.45187764 0.46008456\n",
      " 0.45088286 0.45461328 0.44242726 0.43148471 0.41979607 0.44391942\n",
      " 0.44889331 0.44864462 0.44541159 0.45983586 0.47923402 0.48097488\n",
      " 0.458095   0.4536185  0.43745337 0.43919423 0.44342203 0.45734892\n",
      " 0.4449142  0.44292465 0.44093509 0.42899776 0.41357871 0.42626212\n",
      " 0.41904999 0.41258393 0.39393186 0.3919423  0.40586919 0.4051231\n",
      " 0.40885352 0.41556827 0.42153693 0.41904999 0.41681174 0.40711266\n",
      " 0.41929868 0.42675951 0.36010943 0.3874658  0.39716488 0.40014922\n",
      " 0.39607465 0.39222771 0.38971007 0.38809857 0.38696757 0.38601834\n",
      " 0.3850925  0.38413393 0.38314101 0.38213119]\n",
      "10 day output [[0.38112098]]\n",
      "11 day input [0.20989804 0.20815717 0.20641631 0.19671723 0.19995026 0.19671723\n",
      " 0.20542154 0.21114151 0.20467545 0.20144243 0.17682169 0.17358866\n",
      " 0.18826163 0.19199204 0.20940065 0.20591893 0.21188759 0.21188759\n",
      " 0.2158667  0.22929619 0.23029097 0.23302661 0.23849789 0.29395673\n",
      " 0.31012186 0.30315842 0.31857747 0.33523999 0.33822432 0.36955981\n",
      " 0.39741358 0.38522756 0.35986073 0.35737379 0.34170604 0.36010943\n",
      " 0.34145735 0.38398408 0.44988809 0.46107933 0.45336981 0.43422034\n",
      " 0.47973141 0.45560806 0.45162895 0.45187764 0.46008456 0.45088286\n",
      " 0.45461328 0.44242726 0.43148471 0.41979607 0.44391942 0.44889331\n",
      " 0.44864462 0.44541159 0.45983586 0.47923402 0.48097488 0.458095\n",
      " 0.4536185  0.43745337 0.43919423 0.44342203 0.45734892 0.4449142\n",
      " 0.44292465 0.44093509 0.42899776 0.41357871 0.42626212 0.41904999\n",
      " 0.41258393 0.39393186 0.3919423  0.40586919 0.4051231  0.40885352\n",
      " 0.41556827 0.42153693 0.41904999 0.41681174 0.40711266 0.41929868\n",
      " 0.42675951 0.36010943 0.3874658  0.39716488 0.40014922 0.39607465\n",
      " 0.39222771 0.38971007 0.38809857 0.38696757 0.38601834 0.3850925\n",
      " 0.38413393 0.38314101 0.38213119 0.38112098]\n",
      "11 day output [[0.38011914]]\n",
      "12 day input [0.20815717 0.20641631 0.19671723 0.19995026 0.19671723 0.20542154\n",
      " 0.21114151 0.20467545 0.20144243 0.17682169 0.17358866 0.18826163\n",
      " 0.19199204 0.20940065 0.20591893 0.21188759 0.21188759 0.2158667\n",
      " 0.22929619 0.23029097 0.23302661 0.23849789 0.29395673 0.31012186\n",
      " 0.30315842 0.31857747 0.33523999 0.33822432 0.36955981 0.39741358\n",
      " 0.38522756 0.35986073 0.35737379 0.34170604 0.36010943 0.34145735\n",
      " 0.38398408 0.44988809 0.46107933 0.45336981 0.43422034 0.47973141\n",
      " 0.45560806 0.45162895 0.45187764 0.46008456 0.45088286 0.45461328\n",
      " 0.44242726 0.43148471 0.41979607 0.44391942 0.44889331 0.44864462\n",
      " 0.44541159 0.45983586 0.47923402 0.48097488 0.458095   0.4536185\n",
      " 0.43745337 0.43919423 0.44342203 0.45734892 0.4449142  0.44292465\n",
      " 0.44093509 0.42899776 0.41357871 0.42626212 0.41904999 0.41258393\n",
      " 0.39393186 0.3919423  0.40586919 0.4051231  0.40885352 0.41556827\n",
      " 0.42153693 0.41904999 0.41681174 0.40711266 0.41929868 0.42675951\n",
      " 0.36010943 0.3874658  0.39716488 0.40014922 0.39607465 0.39222771\n",
      " 0.38971007 0.38809857 0.38696757 0.38601834 0.3850925  0.38413393\n",
      " 0.38314101 0.38213119 0.38112098 0.38011914]\n",
      "12 day output [[0.37912714]]\n",
      "13 day input [0.20641631 0.19671723 0.19995026 0.19671723 0.20542154 0.21114151\n",
      " 0.20467545 0.20144243 0.17682169 0.17358866 0.18826163 0.19199204\n",
      " 0.20940065 0.20591893 0.21188759 0.21188759 0.2158667  0.22929619\n",
      " 0.23029097 0.23302661 0.23849789 0.29395673 0.31012186 0.30315842\n",
      " 0.31857747 0.33523999 0.33822432 0.36955981 0.39741358 0.38522756\n",
      " 0.35986073 0.35737379 0.34170604 0.36010943 0.34145735 0.38398408\n",
      " 0.44988809 0.46107933 0.45336981 0.43422034 0.47973141 0.45560806\n",
      " 0.45162895 0.45187764 0.46008456 0.45088286 0.45461328 0.44242726\n",
      " 0.43148471 0.41979607 0.44391942 0.44889331 0.44864462 0.44541159\n",
      " 0.45983586 0.47923402 0.48097488 0.458095   0.4536185  0.43745337\n",
      " 0.43919423 0.44342203 0.45734892 0.4449142  0.44292465 0.44093509\n",
      " 0.42899776 0.41357871 0.42626212 0.41904999 0.41258393 0.39393186\n",
      " 0.3919423  0.40586919 0.4051231  0.40885352 0.41556827 0.42153693\n",
      " 0.41904999 0.41681174 0.40711266 0.41929868 0.42675951 0.36010943\n",
      " 0.3874658  0.39716488 0.40014922 0.39607465 0.39222771 0.38971007\n",
      " 0.38809857 0.38696757 0.38601834 0.3850925  0.38413393 0.38314101\n",
      " 0.38213119 0.38112098 0.38011914 0.37912714]\n",
      "13 day output [[0.37814167]]\n",
      "14 day input [0.19671723 0.19995026 0.19671723 0.20542154 0.21114151 0.20467545\n",
      " 0.20144243 0.17682169 0.17358866 0.18826163 0.19199204 0.20940065\n",
      " 0.20591893 0.21188759 0.21188759 0.2158667  0.22929619 0.23029097\n",
      " 0.23302661 0.23849789 0.29395673 0.31012186 0.30315842 0.31857747\n",
      " 0.33523999 0.33822432 0.36955981 0.39741358 0.38522756 0.35986073\n",
      " 0.35737379 0.34170604 0.36010943 0.34145735 0.38398408 0.44988809\n",
      " 0.46107933 0.45336981 0.43422034 0.47973141 0.45560806 0.45162895\n",
      " 0.45187764 0.46008456 0.45088286 0.45461328 0.44242726 0.43148471\n",
      " 0.41979607 0.44391942 0.44889331 0.44864462 0.44541159 0.45983586\n",
      " 0.47923402 0.48097488 0.458095   0.4536185  0.43745337 0.43919423\n",
      " 0.44342203 0.45734892 0.4449142  0.44292465 0.44093509 0.42899776\n",
      " 0.41357871 0.42626212 0.41904999 0.41258393 0.39393186 0.3919423\n",
      " 0.40586919 0.4051231  0.40885352 0.41556827 0.42153693 0.41904999\n",
      " 0.41681174 0.40711266 0.41929868 0.42675951 0.36010943 0.3874658\n",
      " 0.39716488 0.40014922 0.39607465 0.39222771 0.38971007 0.38809857\n",
      " 0.38696757 0.38601834 0.3850925  0.38413393 0.38314101 0.38213119\n",
      " 0.38112098 0.38011914 0.37912714 0.37814167]\n",
      "14 day output [[0.37715796]]\n",
      "15 day input [0.19995026 0.19671723 0.20542154 0.21114151 0.20467545 0.20144243\n",
      " 0.17682169 0.17358866 0.18826163 0.19199204 0.20940065 0.20591893\n",
      " 0.21188759 0.21188759 0.2158667  0.22929619 0.23029097 0.23302661\n",
      " 0.23849789 0.29395673 0.31012186 0.30315842 0.31857747 0.33523999\n",
      " 0.33822432 0.36955981 0.39741358 0.38522756 0.35986073 0.35737379\n",
      " 0.34170604 0.36010943 0.34145735 0.38398408 0.44988809 0.46107933\n",
      " 0.45336981 0.43422034 0.47973141 0.45560806 0.45162895 0.45187764\n",
      " 0.46008456 0.45088286 0.45461328 0.44242726 0.43148471 0.41979607\n",
      " 0.44391942 0.44889331 0.44864462 0.44541159 0.45983586 0.47923402\n",
      " 0.48097488 0.458095   0.4536185  0.43745337 0.43919423 0.44342203\n",
      " 0.45734892 0.4449142  0.44292465 0.44093509 0.42899776 0.41357871\n",
      " 0.42626212 0.41904999 0.41258393 0.39393186 0.3919423  0.40586919\n",
      " 0.4051231  0.40885352 0.41556827 0.42153693 0.41904999 0.41681174\n",
      " 0.40711266 0.41929868 0.42675951 0.36010943 0.3874658  0.39716488\n",
      " 0.40014922 0.39607465 0.39222771 0.38971007 0.38809857 0.38696757\n",
      " 0.38601834 0.3850925  0.38413393 0.38314101 0.38213119 0.38112098\n",
      " 0.38011914 0.37912714 0.37814167 0.37715796]\n",
      "15 day output [[0.3761717]]\n",
      "16 day input [0.19671723 0.20542154 0.21114151 0.20467545 0.20144243 0.17682169\n",
      " 0.17358866 0.18826163 0.19199204 0.20940065 0.20591893 0.21188759\n",
      " 0.21188759 0.2158667  0.22929619 0.23029097 0.23302661 0.23849789\n",
      " 0.29395673 0.31012186 0.30315842 0.31857747 0.33523999 0.33822432\n",
      " 0.36955981 0.39741358 0.38522756 0.35986073 0.35737379 0.34170604\n",
      " 0.36010943 0.34145735 0.38398408 0.44988809 0.46107933 0.45336981\n",
      " 0.43422034 0.47973141 0.45560806 0.45162895 0.45187764 0.46008456\n",
      " 0.45088286 0.45461328 0.44242726 0.43148471 0.41979607 0.44391942\n",
      " 0.44889331 0.44864462 0.44541159 0.45983586 0.47923402 0.48097488\n",
      " 0.458095   0.4536185  0.43745337 0.43919423 0.44342203 0.45734892\n",
      " 0.4449142  0.44292465 0.44093509 0.42899776 0.41357871 0.42626212\n",
      " 0.41904999 0.41258393 0.39393186 0.3919423  0.40586919 0.4051231\n",
      " 0.40885352 0.41556827 0.42153693 0.41904999 0.41681174 0.40711266\n",
      " 0.41929868 0.42675951 0.36010943 0.3874658  0.39716488 0.40014922\n",
      " 0.39607465 0.39222771 0.38971007 0.38809857 0.38696757 0.38601834\n",
      " 0.3850925  0.38413393 0.38314101 0.38213119 0.38112098 0.38011914\n",
      " 0.37912714 0.37814167 0.37715796 0.37617171]\n"
     ]
    },
    {
     "name": "stdout",
     "output_type": "stream",
     "text": [
      "16 day output [[0.37517977]]\n",
      "17 day input [0.20542154 0.21114151 0.20467545 0.20144243 0.17682169 0.17358866\n",
      " 0.18826163 0.19199204 0.20940065 0.20591893 0.21188759 0.21188759\n",
      " 0.2158667  0.22929619 0.23029097 0.23302661 0.23849789 0.29395673\n",
      " 0.31012186 0.30315842 0.31857747 0.33523999 0.33822432 0.36955981\n",
      " 0.39741358 0.38522756 0.35986073 0.35737379 0.34170604 0.36010943\n",
      " 0.34145735 0.38398408 0.44988809 0.46107933 0.45336981 0.43422034\n",
      " 0.47973141 0.45560806 0.45162895 0.45187764 0.46008456 0.45088286\n",
      " 0.45461328 0.44242726 0.43148471 0.41979607 0.44391942 0.44889331\n",
      " 0.44864462 0.44541159 0.45983586 0.47923402 0.48097488 0.458095\n",
      " 0.4536185  0.43745337 0.43919423 0.44342203 0.45734892 0.4449142\n",
      " 0.44292465 0.44093509 0.42899776 0.41357871 0.42626212 0.41904999\n",
      " 0.41258393 0.39393186 0.3919423  0.40586919 0.4051231  0.40885352\n",
      " 0.41556827 0.42153693 0.41904999 0.41681174 0.40711266 0.41929868\n",
      " 0.42675951 0.36010943 0.3874658  0.39716488 0.40014922 0.39607465\n",
      " 0.39222771 0.38971007 0.38809857 0.38696757 0.38601834 0.3850925\n",
      " 0.38413393 0.38314101 0.38213119 0.38112098 0.38011914 0.37912714\n",
      " 0.37814167 0.37715796 0.37617171 0.37517977]\n",
      "17 day output [[0.37418032]]\n",
      "18 day input [0.21114151 0.20467545 0.20144243 0.17682169 0.17358866 0.18826163\n",
      " 0.19199204 0.20940065 0.20591893 0.21188759 0.21188759 0.2158667\n",
      " 0.22929619 0.23029097 0.23302661 0.23849789 0.29395673 0.31012186\n",
      " 0.30315842 0.31857747 0.33523999 0.33822432 0.36955981 0.39741358\n",
      " 0.38522756 0.35986073 0.35737379 0.34170604 0.36010943 0.34145735\n",
      " 0.38398408 0.44988809 0.46107933 0.45336981 0.43422034 0.47973141\n",
      " 0.45560806 0.45162895 0.45187764 0.46008456 0.45088286 0.45461328\n",
      " 0.44242726 0.43148471 0.41979607 0.44391942 0.44889331 0.44864462\n",
      " 0.44541159 0.45983586 0.47923402 0.48097488 0.458095   0.4536185\n",
      " 0.43745337 0.43919423 0.44342203 0.45734892 0.4449142  0.44292465\n",
      " 0.44093509 0.42899776 0.41357871 0.42626212 0.41904999 0.41258393\n",
      " 0.39393186 0.3919423  0.40586919 0.4051231  0.40885352 0.41556827\n",
      " 0.42153693 0.41904999 0.41681174 0.40711266 0.41929868 0.42675951\n",
      " 0.36010943 0.3874658  0.39716488 0.40014922 0.39607465 0.39222771\n",
      " 0.38971007 0.38809857 0.38696757 0.38601834 0.3850925  0.38413393\n",
      " 0.38314101 0.38213119 0.38112098 0.38011914 0.37912714 0.37814167\n",
      " 0.37715796 0.37617171 0.37517977 0.37418032]\n",
      "18 day output [[0.37317255]]\n",
      "19 day input [0.20467545 0.20144243 0.17682169 0.17358866 0.18826163 0.19199204\n",
      " 0.20940065 0.20591893 0.21188759 0.21188759 0.2158667  0.22929619\n",
      " 0.23029097 0.23302661 0.23849789 0.29395673 0.31012186 0.30315842\n",
      " 0.31857747 0.33523999 0.33822432 0.36955981 0.39741358 0.38522756\n",
      " 0.35986073 0.35737379 0.34170604 0.36010943 0.34145735 0.38398408\n",
      " 0.44988809 0.46107933 0.45336981 0.43422034 0.47973141 0.45560806\n",
      " 0.45162895 0.45187764 0.46008456 0.45088286 0.45461328 0.44242726\n",
      " 0.43148471 0.41979607 0.44391942 0.44889331 0.44864462 0.44541159\n",
      " 0.45983586 0.47923402 0.48097488 0.458095   0.4536185  0.43745337\n",
      " 0.43919423 0.44342203 0.45734892 0.4449142  0.44292465 0.44093509\n",
      " 0.42899776 0.41357871 0.42626212 0.41904999 0.41258393 0.39393186\n",
      " 0.3919423  0.40586919 0.4051231  0.40885352 0.41556827 0.42153693\n",
      " 0.41904999 0.41681174 0.40711266 0.41929868 0.42675951 0.36010943\n",
      " 0.3874658  0.39716488 0.40014922 0.39607465 0.39222771 0.38971007\n",
      " 0.38809857 0.38696757 0.38601834 0.3850925  0.38413393 0.38314101\n",
      " 0.38213119 0.38112098 0.38011914 0.37912714 0.37814167 0.37715796\n",
      " 0.37617171 0.37517977 0.37418032 0.37317255]\n",
      "19 day output [[0.37215653]]\n",
      "20 day input [0.20144243 0.17682169 0.17358866 0.18826163 0.19199204 0.20940065\n",
      " 0.20591893 0.21188759 0.21188759 0.2158667  0.22929619 0.23029097\n",
      " 0.23302661 0.23849789 0.29395673 0.31012186 0.30315842 0.31857747\n",
      " 0.33523999 0.33822432 0.36955981 0.39741358 0.38522756 0.35986073\n",
      " 0.35737379 0.34170604 0.36010943 0.34145735 0.38398408 0.44988809\n",
      " 0.46107933 0.45336981 0.43422034 0.47973141 0.45560806 0.45162895\n",
      " 0.45187764 0.46008456 0.45088286 0.45461328 0.44242726 0.43148471\n",
      " 0.41979607 0.44391942 0.44889331 0.44864462 0.44541159 0.45983586\n",
      " 0.47923402 0.48097488 0.458095   0.4536185  0.43745337 0.43919423\n",
      " 0.44342203 0.45734892 0.4449142  0.44292465 0.44093509 0.42899776\n",
      " 0.41357871 0.42626212 0.41904999 0.41258393 0.39393186 0.3919423\n",
      " 0.40586919 0.4051231  0.40885352 0.41556827 0.42153693 0.41904999\n",
      " 0.41681174 0.40711266 0.41929868 0.42675951 0.36010943 0.3874658\n",
      " 0.39716488 0.40014922 0.39607465 0.39222771 0.38971007 0.38809857\n",
      " 0.38696757 0.38601834 0.3850925  0.38413393 0.38314101 0.38213119\n",
      " 0.38112098 0.38011914 0.37912714 0.37814167 0.37715796 0.37617171\n",
      " 0.37517977 0.37418032 0.37317255 0.37215653]\n",
      "20 day output [[0.37113255]]\n",
      "21 day input [0.17682169 0.17358866 0.18826163 0.19199204 0.20940065 0.20591893\n",
      " 0.21188759 0.21188759 0.2158667  0.22929619 0.23029097 0.23302661\n",
      " 0.23849789 0.29395673 0.31012186 0.30315842 0.31857747 0.33523999\n",
      " 0.33822432 0.36955981 0.39741358 0.38522756 0.35986073 0.35737379\n",
      " 0.34170604 0.36010943 0.34145735 0.38398408 0.44988809 0.46107933\n",
      " 0.45336981 0.43422034 0.47973141 0.45560806 0.45162895 0.45187764\n",
      " 0.46008456 0.45088286 0.45461328 0.44242726 0.43148471 0.41979607\n",
      " 0.44391942 0.44889331 0.44864462 0.44541159 0.45983586 0.47923402\n",
      " 0.48097488 0.458095   0.4536185  0.43745337 0.43919423 0.44342203\n",
      " 0.45734892 0.4449142  0.44292465 0.44093509 0.42899776 0.41357871\n",
      " 0.42626212 0.41904999 0.41258393 0.39393186 0.3919423  0.40586919\n",
      " 0.4051231  0.40885352 0.41556827 0.42153693 0.41904999 0.41681174\n",
      " 0.40711266 0.41929868 0.42675951 0.36010943 0.3874658  0.39716488\n",
      " 0.40014922 0.39607465 0.39222771 0.38971007 0.38809857 0.38696757\n",
      " 0.38601834 0.3850925  0.38413393 0.38314101 0.38213119 0.38112098\n",
      " 0.38011914 0.37912714 0.37814167 0.37715796 0.37617171 0.37517977\n",
      " 0.37418032 0.37317255 0.37215653 0.37113255]\n",
      "21 day output [[0.3701012]]\n",
      "22 day input [0.17358866 0.18826163 0.19199204 0.20940065 0.20591893 0.21188759\n",
      " 0.21188759 0.2158667  0.22929619 0.23029097 0.23302661 0.23849789\n",
      " 0.29395673 0.31012186 0.30315842 0.31857747 0.33523999 0.33822432\n",
      " 0.36955981 0.39741358 0.38522756 0.35986073 0.35737379 0.34170604\n",
      " 0.36010943 0.34145735 0.38398408 0.44988809 0.46107933 0.45336981\n",
      " 0.43422034 0.47973141 0.45560806 0.45162895 0.45187764 0.46008456\n",
      " 0.45088286 0.45461328 0.44242726 0.43148471 0.41979607 0.44391942\n",
      " 0.44889331 0.44864462 0.44541159 0.45983586 0.47923402 0.48097488\n",
      " 0.458095   0.4536185  0.43745337 0.43919423 0.44342203 0.45734892\n",
      " 0.4449142  0.44292465 0.44093509 0.42899776 0.41357871 0.42626212\n",
      " 0.41904999 0.41258393 0.39393186 0.3919423  0.40586919 0.4051231\n",
      " 0.40885352 0.41556827 0.42153693 0.41904999 0.41681174 0.40711266\n",
      " 0.41929868 0.42675951 0.36010943 0.3874658  0.39716488 0.40014922\n",
      " 0.39607465 0.39222771 0.38971007 0.38809857 0.38696757 0.38601834\n",
      " 0.3850925  0.38413393 0.38314101 0.38213119 0.38112098 0.38011914\n",
      " 0.37912714 0.37814167 0.37715796 0.37617171 0.37517977 0.37418032\n",
      " 0.37317255 0.37215653 0.37113255 0.37010121]\n",
      "22 day output [[0.3690633]]\n",
      "23 day input [0.18826163 0.19199204 0.20940065 0.20591893 0.21188759 0.21188759\n",
      " 0.2158667  0.22929619 0.23029097 0.23302661 0.23849789 0.29395673\n",
      " 0.31012186 0.30315842 0.31857747 0.33523999 0.33822432 0.36955981\n",
      " 0.39741358 0.38522756 0.35986073 0.35737379 0.34170604 0.36010943\n",
      " 0.34145735 0.38398408 0.44988809 0.46107933 0.45336981 0.43422034\n",
      " 0.47973141 0.45560806 0.45162895 0.45187764 0.46008456 0.45088286\n",
      " 0.45461328 0.44242726 0.43148471 0.41979607 0.44391942 0.44889331\n",
      " 0.44864462 0.44541159 0.45983586 0.47923402 0.48097488 0.458095\n",
      " 0.4536185  0.43745337 0.43919423 0.44342203 0.45734892 0.4449142\n",
      " 0.44292465 0.44093509 0.42899776 0.41357871 0.42626212 0.41904999\n",
      " 0.41258393 0.39393186 0.3919423  0.40586919 0.4051231  0.40885352\n",
      " 0.41556827 0.42153693 0.41904999 0.41681174 0.40711266 0.41929868\n",
      " 0.42675951 0.36010943 0.3874658  0.39716488 0.40014922 0.39607465\n",
      " 0.39222771 0.38971007 0.38809857 0.38696757 0.38601834 0.3850925\n",
      " 0.38413393 0.38314101 0.38213119 0.38112098 0.38011914 0.37912714\n",
      " 0.37814167 0.37715796 0.37617171 0.37517977 0.37418032 0.37317255\n",
      " 0.37215653 0.37113255 0.37010121 0.36906329]\n",
      "23 day output [[0.3680195]]\n",
      "24 day input [0.19199204 0.20940065 0.20591893 0.21188759 0.21188759 0.2158667\n",
      " 0.22929619 0.23029097 0.23302661 0.23849789 0.29395673 0.31012186\n",
      " 0.30315842 0.31857747 0.33523999 0.33822432 0.36955981 0.39741358\n",
      " 0.38522756 0.35986073 0.35737379 0.34170604 0.36010943 0.34145735\n",
      " 0.38398408 0.44988809 0.46107933 0.45336981 0.43422034 0.47973141\n",
      " 0.45560806 0.45162895 0.45187764 0.46008456 0.45088286 0.45461328\n",
      " 0.44242726 0.43148471 0.41979607 0.44391942 0.44889331 0.44864462\n",
      " 0.44541159 0.45983586 0.47923402 0.48097488 0.458095   0.4536185\n",
      " 0.43745337 0.43919423 0.44342203 0.45734892 0.4449142  0.44292465\n",
      " 0.44093509 0.42899776 0.41357871 0.42626212 0.41904999 0.41258393\n",
      " 0.39393186 0.3919423  0.40586919 0.4051231  0.40885352 0.41556827\n",
      " 0.42153693 0.41904999 0.41681174 0.40711266 0.41929868 0.42675951\n",
      " 0.36010943 0.3874658  0.39716488 0.40014922 0.39607465 0.39222771\n",
      " 0.38971007 0.38809857 0.38696757 0.38601834 0.3850925  0.38413393\n",
      " 0.38314101 0.38213119 0.38112098 0.38011914 0.37912714 0.37814167\n",
      " 0.37715796 0.37617171 0.37517977 0.37418032 0.37317255 0.37215653\n",
      " 0.37113255 0.37010121 0.36906329 0.36801949]\n"
     ]
    },
    {
     "name": "stdout",
     "output_type": "stream",
     "text": [
      "24 day output [[0.36697072]]\n",
      "25 day input [0.20940065 0.20591893 0.21188759 0.21188759 0.2158667  0.22929619\n",
      " 0.23029097 0.23302661 0.23849789 0.29395673 0.31012186 0.30315842\n",
      " 0.31857747 0.33523999 0.33822432 0.36955981 0.39741358 0.38522756\n",
      " 0.35986073 0.35737379 0.34170604 0.36010943 0.34145735 0.38398408\n",
      " 0.44988809 0.46107933 0.45336981 0.43422034 0.47973141 0.45560806\n",
      " 0.45162895 0.45187764 0.46008456 0.45088286 0.45461328 0.44242726\n",
      " 0.43148471 0.41979607 0.44391942 0.44889331 0.44864462 0.44541159\n",
      " 0.45983586 0.47923402 0.48097488 0.458095   0.4536185  0.43745337\n",
      " 0.43919423 0.44342203 0.45734892 0.4449142  0.44292465 0.44093509\n",
      " 0.42899776 0.41357871 0.42626212 0.41904999 0.41258393 0.39393186\n",
      " 0.3919423  0.40586919 0.4051231  0.40885352 0.41556827 0.42153693\n",
      " 0.41904999 0.41681174 0.40711266 0.41929868 0.42675951 0.36010943\n",
      " 0.3874658  0.39716488 0.40014922 0.39607465 0.39222771 0.38971007\n",
      " 0.38809857 0.38696757 0.38601834 0.3850925  0.38413393 0.38314101\n",
      " 0.38213119 0.38112098 0.38011914 0.37912714 0.37814167 0.37715796\n",
      " 0.37617171 0.37517977 0.37418032 0.37317255 0.37215653 0.37113255\n",
      " 0.37010121 0.36906329 0.36801949 0.36697072]\n",
      "25 day output [[0.3659176]]\n",
      "26 day input [0.20591893 0.21188759 0.21188759 0.2158667  0.22929619 0.23029097\n",
      " 0.23302661 0.23849789 0.29395673 0.31012186 0.30315842 0.31857747\n",
      " 0.33523999 0.33822432 0.36955981 0.39741358 0.38522756 0.35986073\n",
      " 0.35737379 0.34170604 0.36010943 0.34145735 0.38398408 0.44988809\n",
      " 0.46107933 0.45336981 0.43422034 0.47973141 0.45560806 0.45162895\n",
      " 0.45187764 0.46008456 0.45088286 0.45461328 0.44242726 0.43148471\n",
      " 0.41979607 0.44391942 0.44889331 0.44864462 0.44541159 0.45983586\n",
      " 0.47923402 0.48097488 0.458095   0.4536185  0.43745337 0.43919423\n",
      " 0.44342203 0.45734892 0.4449142  0.44292465 0.44093509 0.42899776\n",
      " 0.41357871 0.42626212 0.41904999 0.41258393 0.39393186 0.3919423\n",
      " 0.40586919 0.4051231  0.40885352 0.41556827 0.42153693 0.41904999\n",
      " 0.41681174 0.40711266 0.41929868 0.42675951 0.36010943 0.3874658\n",
      " 0.39716488 0.40014922 0.39607465 0.39222771 0.38971007 0.38809857\n",
      " 0.38696757 0.38601834 0.3850925  0.38413393 0.38314101 0.38213119\n",
      " 0.38112098 0.38011914 0.37912714 0.37814167 0.37715796 0.37617171\n",
      " 0.37517977 0.37418032 0.37317255 0.37215653 0.37113255 0.37010121\n",
      " 0.36906329 0.36801949 0.36697072 0.36591759]\n",
      "26 day output [[0.36486104]]\n",
      "27 day input [0.21188759 0.21188759 0.2158667  0.22929619 0.23029097 0.23302661\n",
      " 0.23849789 0.29395673 0.31012186 0.30315842 0.31857747 0.33523999\n",
      " 0.33822432 0.36955981 0.39741358 0.38522756 0.35986073 0.35737379\n",
      " 0.34170604 0.36010943 0.34145735 0.38398408 0.44988809 0.46107933\n",
      " 0.45336981 0.43422034 0.47973141 0.45560806 0.45162895 0.45187764\n",
      " 0.46008456 0.45088286 0.45461328 0.44242726 0.43148471 0.41979607\n",
      " 0.44391942 0.44889331 0.44864462 0.44541159 0.45983586 0.47923402\n",
      " 0.48097488 0.458095   0.4536185  0.43745337 0.43919423 0.44342203\n",
      " 0.45734892 0.4449142  0.44292465 0.44093509 0.42899776 0.41357871\n",
      " 0.42626212 0.41904999 0.41258393 0.39393186 0.3919423  0.40586919\n",
      " 0.4051231  0.40885352 0.41556827 0.42153693 0.41904999 0.41681174\n",
      " 0.40711266 0.41929868 0.42675951 0.36010943 0.3874658  0.39716488\n",
      " 0.40014922 0.39607465 0.39222771 0.38971007 0.38809857 0.38696757\n",
      " 0.38601834 0.3850925  0.38413393 0.38314101 0.38213119 0.38112098\n",
      " 0.38011914 0.37912714 0.37814167 0.37715796 0.37617171 0.37517977\n",
      " 0.37418032 0.37317255 0.37215653 0.37113255 0.37010121 0.36906329\n",
      " 0.36801949 0.36697072 0.36591759 0.36486104]\n",
      "27 day output [[0.36380172]]\n",
      "28 day input [0.21188759 0.2158667  0.22929619 0.23029097 0.23302661 0.23849789\n",
      " 0.29395673 0.31012186 0.30315842 0.31857747 0.33523999 0.33822432\n",
      " 0.36955981 0.39741358 0.38522756 0.35986073 0.35737379 0.34170604\n",
      " 0.36010943 0.34145735 0.38398408 0.44988809 0.46107933 0.45336981\n",
      " 0.43422034 0.47973141 0.45560806 0.45162895 0.45187764 0.46008456\n",
      " 0.45088286 0.45461328 0.44242726 0.43148471 0.41979607 0.44391942\n",
      " 0.44889331 0.44864462 0.44541159 0.45983586 0.47923402 0.48097488\n",
      " 0.458095   0.4536185  0.43745337 0.43919423 0.44342203 0.45734892\n",
      " 0.4449142  0.44292465 0.44093509 0.42899776 0.41357871 0.42626212\n",
      " 0.41904999 0.41258393 0.39393186 0.3919423  0.40586919 0.4051231\n",
      " 0.40885352 0.41556827 0.42153693 0.41904999 0.41681174 0.40711266\n",
      " 0.41929868 0.42675951 0.36010943 0.3874658  0.39716488 0.40014922\n",
      " 0.39607465 0.39222771 0.38971007 0.38809857 0.38696757 0.38601834\n",
      " 0.3850925  0.38413393 0.38314101 0.38213119 0.38112098 0.38011914\n",
      " 0.37912714 0.37814167 0.37715796 0.37617171 0.37517977 0.37418032\n",
      " 0.37317255 0.37215653 0.37113255 0.37010121 0.36906329 0.36801949\n",
      " 0.36697072 0.36591759 0.36486104 0.36380172]\n",
      "28 day output [[0.3627404]]\n",
      "29 day input [0.2158667  0.22929619 0.23029097 0.23302661 0.23849789 0.29395673\n",
      " 0.31012186 0.30315842 0.31857747 0.33523999 0.33822432 0.36955981\n",
      " 0.39741358 0.38522756 0.35986073 0.35737379 0.34170604 0.36010943\n",
      " 0.34145735 0.38398408 0.44988809 0.46107933 0.45336981 0.43422034\n",
      " 0.47973141 0.45560806 0.45162895 0.45187764 0.46008456 0.45088286\n",
      " 0.45461328 0.44242726 0.43148471 0.41979607 0.44391942 0.44889331\n",
      " 0.44864462 0.44541159 0.45983586 0.47923402 0.48097488 0.458095\n",
      " 0.4536185  0.43745337 0.43919423 0.44342203 0.45734892 0.4449142\n",
      " 0.44292465 0.44093509 0.42899776 0.41357871 0.42626212 0.41904999\n",
      " 0.41258393 0.39393186 0.3919423  0.40586919 0.4051231  0.40885352\n",
      " 0.41556827 0.42153693 0.41904999 0.41681174 0.40711266 0.41929868\n",
      " 0.42675951 0.36010943 0.3874658  0.39716488 0.40014922 0.39607465\n",
      " 0.39222771 0.38971007 0.38809857 0.38696757 0.38601834 0.3850925\n",
      " 0.38413393 0.38314101 0.38213119 0.38112098 0.38011914 0.37912714\n",
      " 0.37814167 0.37715796 0.37617171 0.37517977 0.37418032 0.37317255\n",
      " 0.37215653 0.37113255 0.37010121 0.36906329 0.36801949 0.36697072\n",
      " 0.36591759 0.36486104 0.36380172 0.3627404 ]\n",
      "29 day output [[0.36167765]]\n",
      "[[0.39607465267181396], [0.3922277092933655], [0.38971006870269775], [0.3880985677242279], [0.38696756958961487], [0.3860183358192444], [0.38509249687194824], [0.3841339349746704], [0.38314101099967957], [0.3821311891078949], [0.3811209797859192], [0.3801191449165344], [0.3791271448135376], [0.3781416714191437], [0.37715795636177063], [0.37617170810699463], [0.3751797676086426], [0.37418031692504883], [0.3731725513935089], [0.3721565306186676], [0.3711325526237488], [0.3701012134552002], [0.36906328797340393], [0.3680194914340973], [0.3669707179069519], [0.3659175932407379], [0.36486104130744934], [0.3638017177581787], [0.3627403974533081], [0.3616776466369629]]\n"
     ]
    }
   ],
   "source": [
    "from numpy import array\n",
    "\n",
    "lst_output=[]\n",
    "n_steps=100\n",
    "i=0\n",
    "while(i<30):\n",
    "    \n",
    "    if(len(temp_input)>100):\n",
    "        #print(temp_input)\n",
    "        x_input=np.array(temp_input[1:])\n",
    "        print(\"{} day input {}\".format(i,x_input))\n",
    "        x_input=x_input.reshape(1,-1)\n",
    "        x_input = x_input.reshape((1, n_steps, 1))\n",
    "        #print(x_input)\n",
    "        yhat = model.predict(x_input, verbose=0)\n",
    "        print(\"{} day output {}\".format(i,yhat))\n",
    "        temp_input.extend(yhat[0].tolist())\n",
    "        temp_input=temp_input[1:]\n",
    "        #print(temp_input)\n",
    "        lst_output.extend(yhat.tolist())\n",
    "        i=i+1\n",
    "    else:\n",
    "        x_input = x_input.reshape((1, n_steps,1))\n",
    "        yhat = model.predict(x_input, verbose=0)\n",
    "        print(yhat[0])\n",
    "        temp_input.extend(yhat[0].tolist())\n",
    "        print(len(temp_input))\n",
    "        lst_output.extend(yhat.tolist())\n",
    "        i=i+1\n",
    "    \n",
    "\n",
    "print(lst_output)"
   ]
  },
  {
   "cell_type": "code",
   "execution_count": 143,
   "metadata": {},
   "outputs": [],
   "source": [
    "day_new=np.arange(1,101)\n",
    "day_pred=np.arange(101,131)"
   ]
  },
  {
   "cell_type": "code",
   "execution_count": 144,
   "metadata": {},
   "outputs": [
    {
     "data": {
      "text/plain": [
       "1258"
      ]
     },
     "execution_count": 144,
     "metadata": {},
     "output_type": "execute_result"
    }
   ],
   "source": [
    "len(df1)"
   ]
  },
  {
   "cell_type": "code",
   "execution_count": 145,
   "metadata": {},
   "outputs": [],
   "source": [
    "df3=df1.tolist()\n",
    "df3.extend(lst_output)"
   ]
  },
  {
   "cell_type": "markdown",
   "metadata": {},
   "source": [
    "# Prediction for next 10 days on a graph"
   ]
  },
  {
   "cell_type": "code",
   "execution_count": 150,
   "metadata": {},
   "outputs": [
    {
     "data": {
      "text/plain": [
       "[<matplotlib.lines.Line2D at 0x1bd9fd30b48>]"
      ]
     },
     "execution_count": 150,
     "metadata": {},
     "output_type": "execute_result"
    },
    {
     "data": {
      "image/png": "[encoded data removed]",
      "text/plain": [
       "<Figure size 432x288 with 1 Axes>"
      ]
     },
     "metadata": {
      "needs_background": "light"
     },
     "output_type": "display_data"
    }
   ],
   "source": [
    "plt.plot(day_new,scaler.inverse_transform(df1[1158:]))\n",
    "plt.plot(day_pred,scaler.inverse_transform(lst_output))"
   ]
  },
  {
   "cell_type": "markdown",
   "metadata": {},
   "source": [
    "# Plotting the final predicted graph for Tata motors "
   ]
  },
  {
   "cell_type": "code",
   "execution_count": 151,
   "metadata": {},
   "outputs": [
    {
     "data": {
      "text/plain": [
       "[<matplotlib.lines.Line2D at 0x1bd9acbd388>]"
      ]
     },
     "execution_count": 151,
     "metadata": {},
     "output_type": "execute_result"
    },
    {
     "data": {
      "image/png": "[encoded data removed]",
      "text/plain": [
       "<Figure size 432x288 with 1 Axes>"
      ]
     },
     "metadata": {
      "needs_background": "light"
     },
     "output_type": "display_data"
    }
   ],
   "source": [
    "df3=df1.tolist()\n",
    "df3.extend(lst_output)\n",
    "plt.plot(df3[1200:])"
   ]
  }
 ],
 "metadata": {
  "kernelspec": {
   "display_name": "Python 3",
   "language": "python",
   "name": "python3"
  },
  "language_info": {
   "codemirror_mode": {
    "name": "ipython",
    "version": 3
   },
   "file_extension": ".py",
   "mimetype": "text/x-python",
   "name": "python",
   "nbconvert_exporter": "python",
   "pygments_lexer": "ipython3",
   "version": "3.9.0"
  }
 },
 "nbformat": 4,
 "nbformat_minor": 4
}

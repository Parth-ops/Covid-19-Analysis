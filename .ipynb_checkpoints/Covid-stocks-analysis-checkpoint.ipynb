{
 "cells": [
  {
   "cell_type": "code",
   "execution_count": 2,
   "id": "verbal-queen",
   "metadata": {},
   "outputs": [],
   "source": [
    "%matplotlib inline"
   ]
  },
  {
   "cell_type": "code",
   "execution_count": 2,
   "id": "mineral-chance",
   "metadata": {},
   "outputs": [],
   "source": [
    "import pandas as pd\n",
    "import gspread\n",
    "from google.oauth2.service_account import Credentials\n",
    "from gspread_pandas import Spread, Client\n",
    "\n",
    "import seaborn as sns\n",
    "import matplotlib.pyplot as plt"
   ]
  },
  {
   "cell_type": "code",
   "execution_count": 3,
   "id": "sixth-contest",
   "metadata": {},
   "outputs": [],
   "source": [
    "plt.style.use('fivethirtyeight')"
   ]
  },
  {
   "cell_type": "code",
   "execution_count": 4,
   "id": "capable-anxiety",
   "metadata": {},
   "outputs": [
    {
     "data": {
      "text/html": [
       "<div>\n",
       "<style scoped>\n",
       "    .dataframe tbody tr th:only-of-type {\n",
       "        vertical-align: middle;\n",
       "    }\n",
       "\n",
       "    .dataframe tbody tr th {\n",
       "        vertical-align: top;\n",
       "    }\n",
       "\n",
       "    .dataframe thead th {\n",
       "        text-align: right;\n",
       "    }\n",
       "</style>\n",
       "<table border=\"1\" class=\"dataframe\">\n",
       "  <thead>\n",
       "    <tr style=\"text-align: right;\">\n",
       "      <th></th>\n",
       "      <th>Symbol</th>\n",
       "      <th>Security</th>\n",
       "      <th>SEC filings</th>\n",
       "      <th>GICS Sector</th>\n",
       "      <th>GICS Sub-Industry</th>\n",
       "      <th>Headquarters Location</th>\n",
       "      <th>Date first added</th>\n",
       "      <th>CIK</th>\n",
       "      <th>Founded</th>\n",
       "    </tr>\n",
       "  </thead>\n",
       "  <tbody>\n",
       "    <tr>\n",
       "      <th>0</th>\n",
       "      <td>MMM</td>\n",
       "      <td>3M Company</td>\n",
       "      <td>reports</td>\n",
       "      <td>Industrials</td>\n",
       "      <td>Industrial Conglomerates</td>\n",
       "      <td>St. Paul, Minnesota</td>\n",
       "      <td>1976-08-09</td>\n",
       "      <td>66740</td>\n",
       "      <td>1902</td>\n",
       "    </tr>\n",
       "    <tr>\n",
       "      <th>1</th>\n",
       "      <td>ABT</td>\n",
       "      <td>Abbott Laboratories</td>\n",
       "      <td>reports</td>\n",
       "      <td>Health Care</td>\n",
       "      <td>Health Care Equipment</td>\n",
       "      <td>North Chicago, Illinois</td>\n",
       "      <td>1964-03-31</td>\n",
       "      <td>1800</td>\n",
       "      <td>1888</td>\n",
       "    </tr>\n",
       "    <tr>\n",
       "      <th>2</th>\n",
       "      <td>ABBV</td>\n",
       "      <td>AbbVie Inc.</td>\n",
       "      <td>reports</td>\n",
       "      <td>Health Care</td>\n",
       "      <td>Pharmaceuticals</td>\n",
       "      <td>North Chicago, Illinois</td>\n",
       "      <td>2012-12-31</td>\n",
       "      <td>1551152</td>\n",
       "      <td>2013 (1888)</td>\n",
       "    </tr>\n",
       "    <tr>\n",
       "      <th>3</th>\n",
       "      <td>ABMD</td>\n",
       "      <td>Abiomed</td>\n",
       "      <td>reports</td>\n",
       "      <td>Health Care</td>\n",
       "      <td>Health Care Equipment</td>\n",
       "      <td>Danvers, Massachusetts</td>\n",
       "      <td>2018-05-31</td>\n",
       "      <td>815094</td>\n",
       "      <td>1981</td>\n",
       "    </tr>\n",
       "    <tr>\n",
       "      <th>4</th>\n",
       "      <td>ACN</td>\n",
       "      <td>Accenture</td>\n",
       "      <td>reports</td>\n",
       "      <td>Information Technology</td>\n",
       "      <td>IT Consulting &amp; Other Services</td>\n",
       "      <td>Dublin, Ireland</td>\n",
       "      <td>2011-07-06</td>\n",
       "      <td>1467373</td>\n",
       "      <td>1989</td>\n",
       "    </tr>\n",
       "  </tbody>\n",
       "</table>\n",
       "</div>"
      ],
      "text/plain": [
       "  Symbol             Security SEC filings             GICS Sector  \\\n",
       "0    MMM           3M Company     reports             Industrials   \n",
       "1    ABT  Abbott Laboratories     reports             Health Care   \n",
       "2   ABBV          AbbVie Inc.     reports             Health Care   \n",
       "3   ABMD              Abiomed     reports             Health Care   \n",
       "4    ACN            Accenture     reports  Information Technology   \n",
       "\n",
       "                GICS Sub-Industry    Headquarters Location Date first added  \\\n",
       "0        Industrial Conglomerates      St. Paul, Minnesota       1976-08-09   \n",
       "1           Health Care Equipment  North Chicago, Illinois       1964-03-31   \n",
       "2                 Pharmaceuticals  North Chicago, Illinois       2012-12-31   \n",
       "3           Health Care Equipment   Danvers, Massachusetts       2018-05-31   \n",
       "4  IT Consulting & Other Services          Dublin, Ireland       2011-07-06   \n",
       "\n",
       "       CIK      Founded  \n",
       "0    66740         1902  \n",
       "1     1800         1888  \n",
       "2  1551152  2013 (1888)  \n",
       "3   815094         1981  \n",
       "4  1467373         1989  "
      ]
     },
     "execution_count": 4,
     "metadata": {},
     "output_type": "execute_result"
    }
   ],
   "source": [
    "#Getting list of S&P 500 companies from Wikipedia\n",
    "url = 'https://en.wikipedia.org/wiki/List_of_S%26P_500_companies'\n",
    "\n",
    "stocks_df = pd.read_html(url, header=0)[0]\n",
    "\n",
    "stocks_df.head()\n"
   ]
  },
  {
   "cell_type": "code",
   "execution_count": 5,
   "id": "addressed-police",
   "metadata": {},
   "outputs": [
    {
     "data": {
      "text/plain": [
       "505"
      ]
     },
     "execution_count": 5,
     "metadata": {},
     "output_type": "execute_result"
    }
   ],
   "source": [
    "#Number of companies\n",
    "len(stocks_df)"
   ]
  },
  {
   "cell_type": "code",
   "execution_count": 7,
   "id": "editorial-infrastructure",
   "metadata": {},
   "outputs": [
    {
     "data": {
      "text/html": [
       "<div>\n",
       "<style scoped>\n",
       "    .dataframe tbody tr th:only-of-type {\n",
       "        vertical-align: middle;\n",
       "    }\n",
       "\n",
       "    .dataframe tbody tr th {\n",
       "        vertical-align: top;\n",
       "    }\n",
       "\n",
       "    .dataframe thead th {\n",
       "        text-align: right;\n",
       "    }\n",
       "</style>\n",
       "<table border=\"1\" class=\"dataframe\">\n",
       "  <thead>\n",
       "    <tr style=\"text-align: right;\">\n",
       "      <th></th>\n",
       "      <th>Symbol</th>\n",
       "      <th>Security</th>\n",
       "      <th>SEC filings</th>\n",
       "      <th>GICS Sector</th>\n",
       "      <th>GICS Sub-Industry</th>\n",
       "      <th>Headquarters Location</th>\n",
       "      <th>Date first added</th>\n",
       "      <th>CIK</th>\n",
       "      <th>Founded</th>\n",
       "    </tr>\n",
       "  </thead>\n",
       "  <tbody>\n",
       "    <tr>\n",
       "      <th>22</th>\n",
       "      <td>GOOGL</td>\n",
       "      <td>Alphabet Inc. (Class A)</td>\n",
       "      <td>reports</td>\n",
       "      <td>Communication Services</td>\n",
       "      <td>Interactive Media &amp; Services</td>\n",
       "      <td>Mountain View, California</td>\n",
       "      <td>2014-04-03</td>\n",
       "      <td>1652044</td>\n",
       "      <td>1998</td>\n",
       "    </tr>\n",
       "    <tr>\n",
       "      <th>23</th>\n",
       "      <td>GOOG</td>\n",
       "      <td>Alphabet Inc. (Class C)</td>\n",
       "      <td>reports</td>\n",
       "      <td>Communication Services</td>\n",
       "      <td>Interactive Media &amp; Services</td>\n",
       "      <td>Mountain View, California</td>\n",
       "      <td>2006-04-03</td>\n",
       "      <td>1652044</td>\n",
       "      <td>1998</td>\n",
       "    </tr>\n",
       "    <tr>\n",
       "      <th>201</th>\n",
       "      <td>FOXA</td>\n",
       "      <td>Fox Corporation (Class A)</td>\n",
       "      <td>reports</td>\n",
       "      <td>Communication Services</td>\n",
       "      <td>Movies &amp; Entertainment</td>\n",
       "      <td>New York, New York</td>\n",
       "      <td>2013-07-01</td>\n",
       "      <td>1754301</td>\n",
       "      <td>2019</td>\n",
       "    </tr>\n",
       "    <tr>\n",
       "      <th>202</th>\n",
       "      <td>FOX</td>\n",
       "      <td>Fox Corporation (Class B)</td>\n",
       "      <td>reports</td>\n",
       "      <td>Communication Services</td>\n",
       "      <td>Movies &amp; Entertainment</td>\n",
       "      <td>New York, New York</td>\n",
       "      <td>2015-09-18</td>\n",
       "      <td>1754301</td>\n",
       "      <td>2019</td>\n",
       "    </tr>\n",
       "    <tr>\n",
       "      <th>333</th>\n",
       "      <td>NWSA</td>\n",
       "      <td>News Corp (Class A)</td>\n",
       "      <td>reports</td>\n",
       "      <td>Communication Services</td>\n",
       "      <td>Publishing</td>\n",
       "      <td>New York, New York</td>\n",
       "      <td>2013-08-01</td>\n",
       "      <td>1564708</td>\n",
       "      <td>2013 (1980)</td>\n",
       "    </tr>\n",
       "    <tr>\n",
       "      <th>334</th>\n",
       "      <td>NWS</td>\n",
       "      <td>News Corp (Class B)</td>\n",
       "      <td>reports</td>\n",
       "      <td>Communication Services</td>\n",
       "      <td>Publishing</td>\n",
       "      <td>New York, New York</td>\n",
       "      <td>2015-09-18</td>\n",
       "      <td>1564708</td>\n",
       "      <td>2013 (1980)</td>\n",
       "    </tr>\n",
       "    <tr>\n",
       "      <th>454</th>\n",
       "      <td>UAA</td>\n",
       "      <td>Under Armour (Class A)</td>\n",
       "      <td>reports</td>\n",
       "      <td>Consumer Discretionary</td>\n",
       "      <td>Apparel, Accessories &amp; Luxury Goods</td>\n",
       "      <td>Baltimore, Maryland</td>\n",
       "      <td>2014-05-01</td>\n",
       "      <td>1336917</td>\n",
       "      <td>1996</td>\n",
       "    </tr>\n",
       "    <tr>\n",
       "      <th>455</th>\n",
       "      <td>UA</td>\n",
       "      <td>Under Armour (Class C)</td>\n",
       "      <td>reports</td>\n",
       "      <td>Consumer Discretionary</td>\n",
       "      <td>Apparel, Accessories &amp; Luxury Goods</td>\n",
       "      <td>Baltimore, Maryland</td>\n",
       "      <td>2016-04-08</td>\n",
       "      <td>1336917</td>\n",
       "      <td>1996</td>\n",
       "    </tr>\n",
       "  </tbody>\n",
       "</table>\n",
       "</div>"
      ],
      "text/plain": [
       "    Symbol                   Security SEC filings             GICS Sector  \\\n",
       "22   GOOGL    Alphabet Inc. (Class A)     reports  Communication Services   \n",
       "23    GOOG    Alphabet Inc. (Class C)     reports  Communication Services   \n",
       "201   FOXA  Fox Corporation (Class A)     reports  Communication Services   \n",
       "202    FOX  Fox Corporation (Class B)     reports  Communication Services   \n",
       "333   NWSA        News Corp (Class A)     reports  Communication Services   \n",
       "334    NWS        News Corp (Class B)     reports  Communication Services   \n",
       "454    UAA     Under Armour (Class A)     reports  Consumer Discretionary   \n",
       "455     UA     Under Armour (Class C)     reports  Consumer Discretionary   \n",
       "\n",
       "                       GICS Sub-Industry      Headquarters Location  \\\n",
       "22          Interactive Media & Services  Mountain View, California   \n",
       "23          Interactive Media & Services  Mountain View, California   \n",
       "201               Movies & Entertainment         New York, New York   \n",
       "202               Movies & Entertainment         New York, New York   \n",
       "333                           Publishing         New York, New York   \n",
       "334                           Publishing         New York, New York   \n",
       "454  Apparel, Accessories & Luxury Goods        Baltimore, Maryland   \n",
       "455  Apparel, Accessories & Luxury Goods        Baltimore, Maryland   \n",
       "\n",
       "    Date first added      CIK      Founded  \n",
       "22        2014-04-03  1652044         1998  \n",
       "23        2006-04-03  1652044         1998  \n",
       "201       2013-07-01  1754301         2019  \n",
       "202       2015-09-18  1754301         2019  \n",
       "333       2013-08-01  1564708  2013 (1980)  \n",
       "334       2015-09-18  1564708  2013 (1980)  \n",
       "454       2014-05-01  1336917         1996  \n",
       "455       2016-04-08  1336917         1996  "
      ]
     },
     "execution_count": 7,
     "metadata": {},
     "output_type": "execute_result"
    }
   ],
   "source": [
    "stocks_df[stocks_df['Security'].str.contains(\"Class\")]"
   ]
  },
  {
   "cell_type": "code",
   "execution_count": 6,
   "id": "czech-williams",
   "metadata": {},
   "outputs": [
    {
     "data": {
      "text/plain": [
       "Information Technology    76\n",
       "Industrials               73\n",
       "Financials                65\n",
       "Health Care               63\n",
       "Consumer Discretionary    61\n",
       "Consumer Staples          32\n",
       "Real Estate               30\n",
       "Materials                 28\n",
       "Utilities                 28\n",
       "Communication Services    26\n",
       "Energy                    23\n",
       "Name: GICS Sector, dtype: int64"
      ]
     },
     "execution_count": 6,
     "metadata": {},
     "output_type": "execute_result"
    }
   ],
   "source": [
    "stocks_df['GICS Sector'].value_counts()"
   ]
  },
  {
   "cell_type": "code",
   "execution_count": 7,
   "id": "first-employment",
   "metadata": {},
   "outputs": [
    {
     "data": {
      "text/plain": [
       "Health Care Equipment                    20\n",
       "Industrial Machinery                     14\n",
       "Semiconductors                           14\n",
       "Electric Utilities                       13\n",
       "Data Processing & Outsourced Services    12\n",
       "                                         ..\n",
       "Thrifts & Mortgage Finance                1\n",
       "Automotive Retail                         1\n",
       "Health Care Technology                    1\n",
       "Consumer Electronics                      1\n",
       "Steel                                     1\n",
       "Name: GICS Sub-Industry, Length: 124, dtype: int64"
      ]
     },
     "execution_count": 7,
     "metadata": {},
     "output_type": "execute_result"
    }
   ],
   "source": [
    "stocks_df['GICS Sub-Industry'].value_counts()"
   ]
  },
  {
   "cell_type": "markdown",
   "id": "aboriginal-trial",
   "metadata": {},
   "source": [
    "## Adding stocks data from Google Finance\n",
    "Now that we have the list of S&P 500 companies, we can add to our DataFrame Google Sheets formulas that will fetch from Google Finance stock prices and the number of outstanding shares for each company. Note that, these formulas will be executed once we save the Pandas DataFrame in our Google Sheet.\n",
    "\n",
    "You can find the documentation of GOOGLEFINANCE formulas here: https://support.google.com/docs/answer/3093281\n",
    "\n",
    "We start by adding stock prices in 3 different dates: January 1st, March 23rd and April 9th.\n",
    "\n",
    "January 1st, 2020 is the first date of the year. We want to have this price in order to calculate the price drop since the beggining of 2020.\n",
    "March 23rd, 2020 is the date when the S&P 500 reached the bottom in 2020.\n",
    "April 9th, 2020 is the last date when the stock market was open (at the time of writing this blog post)"
   ]
  },
  {
   "cell_type": "code",
   "execution_count": 8,
   "id": "invisible-voice",
   "metadata": {},
   "outputs": [],
   "source": [
    "stocks_df[\"Price_1_1\"] = stocks_df[\"Symbol\"].apply(lambda x: '=INDEX(GOOGLEFINANCE(\"' + x + '\",\"price\", \"1/1/2020\"),2,2)')\n",
    "stocks_df[\"Price_3_23\"] = stocks_df[\"Symbol\"].apply(lambda x: '=INDEX(GOOGLEFINANCE(\"' + x + '\",\"price\", \"3/23/2020\"),2,2)')\n",
    "stocks_df[\"Price_4_9\"] = stocks_df[\"Symbol\"].apply(lambda x: '=INDEX(GOOGLEFINANCE(\"' + x + '\",\"price\", \"4/9/2020\"),2,2)')\n",
    "\n",
    "\n"
   ]
  },
  {
   "cell_type": "markdown",
   "id": "stuffed-content",
   "metadata": {},
   "source": [
    "Next, we add the formula to calculate the number of outstanding shares for each company. We can use this data with the stock prices to calculate the market cap of companies at the 3 different dates.\n",
    "\n",
    "\n"
   ]
  },
  {
   "cell_type": "code",
   "execution_count": 9,
   "id": "alert-google",
   "metadata": {},
   "outputs": [],
   "source": [
    "stocks_df[\"Shares\"] = stocks_df[\"Symbol\"].apply(lambda x: '=GOOGLEFINANCE(\"' + x + '\",\"shares\")')"
   ]
  },
  {
   "cell_type": "markdown",
   "id": "inclusive-austin",
   "metadata": {},
   "source": [
    "### Storing the DataFrame to Google Sheet\n",
    "We start by creating a variable that contains our credentials that we got from Google Cloud Plaltform."
   ]
  },
  {
   "cell_type": "code",
   "execution_count": 10,
   "id": "extensive-product",
   "metadata": {},
   "outputs": [],
   "source": [
    "scope = ['https://spreadsheets.google.com/feeds',\n",
    "         'https://www.googleapis.com/auth/drive']\n",
    "\n",
    "credentials = Credentials.from_service_account_file('./Files/gsheet-stocks.json', scopes=scope)"
   ]
  },
  {
   "cell_type": "markdown",
   "id": "beneficial-shelter",
   "metadata": {},
   "source": [
    "Next, we read the empty google sheet in a variable that we call spread."
   ]
  },
  {
   "cell_type": "code",
   "execution_count": 13,
   "id": "literary-wells",
   "metadata": {},
   "outputs": [],
   "source": [
    "client = Client(scope=scope, creds=credentials)\n",
    "spread = Spread(\"stocks_analysis\", client=client)"
   ]
  },
  {
   "cell_type": "markdown",
   "id": "united-ordinary",
   "metadata": {},
   "source": [
    "We define the list of variables that we want to keep."
   ]
  },
  {
   "cell_type": "code",
   "execution_count": 14,
   "id": "adapted-bathroom",
   "metadata": {},
   "outputs": [],
   "source": [
    "cols_to_keep = [\"Symbol\", \"Security\", \"GICS Sector\", \"GICS Sub-Industry\", \n",
    "                \"Price_1_1\", \"Price_3_23\", \"Price_4_9\", \"Shares\"]"
   ]
  },
  {
   "cell_type": "markdown",
   "id": "registered-strategy",
   "metadata": {},
   "source": [
    "The last step is to save the DataFrame to Google Sheets."
   ]
  },
  {
   "cell_type": "code",
   "execution_count": 15,
   "id": "interracial-environment",
   "metadata": {},
   "outputs": [],
   "source": [
    "spread.df_to_sheet(stocks_df[cols_to_keep])"
   ]
  },
  {
   "cell_type": "markdown",
   "id": "described-excuse",
   "metadata": {},
   "source": [
    "\n",
    "\n",
    "# 4. Analyzing the Data\n",
    "\n",
    "\n",
    "## 4.1. Reading the data\n",
    "\n",
    "We start by reading the data from Google Sheets into a new DataFrame.\n"
   ]
  },
  {
   "cell_type": "code",
   "execution_count": 36,
   "id": "correct-intensity",
   "metadata": {},
   "outputs": [
    {
     "data": {
      "text/html": [
       "<div>\n",
       "<style scoped>\n",
       "    .dataframe tbody tr th:only-of-type {\n",
       "        vertical-align: middle;\n",
       "    }\n",
       "\n",
       "    .dataframe tbody tr th {\n",
       "        vertical-align: top;\n",
       "    }\n",
       "\n",
       "    .dataframe thead th {\n",
       "        text-align: right;\n",
       "    }\n",
       "</style>\n",
       "<table border=\"1\" class=\"dataframe\">\n",
       "  <thead>\n",
       "    <tr style=\"text-align: right;\">\n",
       "      <th></th>\n",
       "      <th>Symbol</th>\n",
       "      <th>Security</th>\n",
       "      <th>GICS Sector</th>\n",
       "      <th>GICS Sub-Industry</th>\n",
       "      <th>Price_1_1</th>\n",
       "      <th>Price_3_23</th>\n",
       "      <th>Price_4_9</th>\n",
       "      <th>Shares</th>\n",
       "    </tr>\n",
       "    <tr>\n",
       "      <th>index</th>\n",
       "      <th></th>\n",
       "      <th></th>\n",
       "      <th></th>\n",
       "      <th></th>\n",
       "      <th></th>\n",
       "      <th></th>\n",
       "      <th></th>\n",
       "      <th></th>\n",
       "    </tr>\n",
       "  </thead>\n",
       "  <tbody>\n",
       "    <tr>\n",
       "      <th>474</th>\n",
       "      <td>VNT</td>\n",
       "      <td>Vontier</td>\n",
       "      <td>Information Technology</td>\n",
       "      <td>Electronic Equipment &amp; Instruments</td>\n",
       "      <td>0</td>\n",
       "      <td>0</td>\n",
       "      <td>0</td>\n",
       "      <td>168547000</td>\n",
       "    </tr>\n",
       "  </tbody>\n",
       "</table>\n",
       "</div>"
      ],
      "text/plain": [
       "      Symbol Security             GICS Sector  \\\n",
       "index                                           \n",
       "474      VNT  Vontier  Information Technology   \n",
       "\n",
       "                        GICS Sub-Industry Price_1_1 Price_3_23 Price_4_9  \\\n",
       "index                                                                      \n",
       "474    Electronic Equipment & Instruments         0          0         0   \n",
       "\n",
       "          Shares  \n",
       "index             \n",
       "474    168547000  "
      ]
     },
     "execution_count": 36,
     "metadata": {},
     "output_type": "execute_result"
    }
   ],
   "source": [
    "stocks_df = spread.sheet_to_df()\n",
    "stocks_df[['Price_1_1', 'Price_3_23', 'Price_4_9']] = stocks_df[['Price_1_1','Price_3_23', 'Price_4_9']].replace(\"#N/A\", '0')\n",
    "#stocks_df.loc[['474']]\n",
    "#stocks_df.loc[['87']]"
   ]
  },
  {
   "cell_type": "markdown",
   "id": "imported-computer",
   "metadata": {},
   "source": [
    "we can see that the DataFrame contains real values for stocks prices and number of shares (and not Google Sheets formulas).\n",
    "\n",
    "We need to change the data type of stock prices and number of outstanding shares from string to numeric."
   ]
  },
  {
   "cell_type": "code",
   "execution_count": 37,
   "id": "macro-least",
   "metadata": {},
   "outputs": [],
   "source": [
    "stocks_df[[\"Price_1_1\", \"Price_3_23\", \"Price_4_9\", \"Shares\"]] = \\\n",
    "stocks_df[[\"Price_1_1\", \"Price_3_23\", \"Price_4_9\", \"Shares\"]].apply(pd.to_numeric)\n"
   ]
  },
  {
   "cell_type": "markdown",
   "id": "together-radiation",
   "metadata": {},
   "source": [
    "## 4.2. Adding Market Cap data and percentage change of stock prices\n",
    "\n",
    "### Adding Market Cap Data\n",
    "Next, we will add the market cap in the 3 different dates."
   ]
  },
  {
   "cell_type": "code",
   "execution_count": 38,
   "id": "greater-corpus",
   "metadata": {},
   "outputs": [],
   "source": [
    "stocks_df[\"Marketcap_1_1\"] = stocks_df[\"Price_1_1\"] * stocks_df[\"Shares\"]\n",
    "stocks_df[\"Marketcap_3_23\"] = stocks_df[\"Price_3_23\"] * stocks_df[\"Shares\"]\n",
    "stocks_df[\"Marketcap_4_9\"] = stocks_df[\"Price_4_9\"] * stocks_df[\"Shares\"]"
   ]
  },
  {
   "cell_type": "markdown",
   "id": "returning-shooting",
   "metadata": {},
   "source": [
    "## Adding percentage change of stock prices\n"
   ]
  },
  {
   "cell_type": "code",
   "execution_count": 39,
   "id": "premium-ozone",
   "metadata": {},
   "outputs": [],
   "source": [
    "# Percentage Change from January 1st to March 23rd \n",
    "stocks_df[\"PercentageChange_3_23_1_1\"] = (stocks_df[\"Price_3_23\"] - stocks_df[\"Price_1_1\"]) / stocks_df[\"Price_1_1\"]*100\n",
    "# Percentage Change from March 23rd to April 9th\n",
    "stocks_df[\"PercentageChange_4_9_3_23\"] = (stocks_df[\"Price_4_9\"] - stocks_df[\"Price_3_23\"]) / stocks_df[\"Price_3_23\"]*100\n",
    "# # Percentage Change from January 1st to April 9th\n",
    "stocks_df[\"PercentageChange_4_9_1_1\"] = (stocks_df[\"Price_4_9\"] - stocks_df[\"Price_1_1\"]) / stocks_df[\"Price_1_1\"]*100"
   ]
  },
  {
   "cell_type": "markdown",
   "id": "advised-agency",
   "metadata": {},
   "source": [
    "## 4.3. Analyzing the data\n",
    "\n",
    "### Change in the total market cap of the S&P 500"
   ]
  },
  {
   "cell_type": "code",
   "execution_count": 40,
   "id": "modern-tutorial",
   "metadata": {},
   "outputs": [
    {
     "data": {
      "text/plain": [
       "-8633.37208659208"
      ]
     },
     "execution_count": 40,
     "metadata": {},
     "output_type": "execute_result"
    }
   ],
   "source": [
    "sum(stocks_df[\"Marketcap_3_23\"] - stocks_df[\"Marketcap_1_1\"]) / 10**9"
   ]
  },
  {
   "cell_type": "code",
   "execution_count": 41,
   "id": "general-winner",
   "metadata": {},
   "outputs": [
    {
     "data": {
      "text/plain": [
       "4754.71035794648"
      ]
     },
     "execution_count": 41,
     "metadata": {},
     "output_type": "execute_result"
    }
   ],
   "source": [
    "sum(stocks_df[\"Marketcap_4_9\"] - stocks_df[\"Marketcap_3_23\"]) / 10**9"
   ]
  },
  {
   "cell_type": "code",
   "execution_count": 42,
   "id": "disciplinary-destination",
   "metadata": {},
   "outputs": [
    {
     "data": {
      "text/plain": [
       "-3878.6617286456003"
      ]
     },
     "execution_count": 42,
     "metadata": {},
     "output_type": "execute_result"
    }
   ],
   "source": [
    "sum(stocks_df[\"Marketcap_4_9\"] - stocks_df[\"Marketcap_1_1\"]) / 10**9"
   ]
  },
  {
   "cell_type": "markdown",
   "id": "universal-point",
   "metadata": {},
   "source": [
    "The S&P 500 lost 8.63 trillion USD from January 1st to March 23rd, but it got back 4.75 trillion from March 23rd to April 9th\n",
    "\n",
    "\n",
    "## Change in the total market cap by sector"
   ]
  },
  {
   "cell_type": "code",
   "execution_count": 43,
   "id": "collaborative-norman",
   "metadata": {},
   "outputs": [
    {
     "data": {
      "text/plain": [
       "GICS Sector\n",
       "Information Technology   -1580.045289\n",
       "Financials               -1523.760157\n",
       "Health Care              -1035.573113\n",
       "Industrials              -1017.131715\n",
       "Consumer Discretionary    -796.153003\n",
       "Communication Services    -729.320277\n",
       "Energy                    -711.433373\n",
       "Consumer Staples          -446.456225\n",
       "Real Estate               -266.534467\n",
       "Utilities                 -265.854453\n",
       "Materials                 -261.110015\n",
       "dtype: float64"
      ]
     },
     "execution_count": 43,
     "metadata": {},
     "output_type": "execute_result"
    }
   ],
   "source": [
    "(stocks_df.groupby(\"GICS Sector\").sum()[\"Marketcap_3_23\"] - stocks_df.groupby(\"GICS Sector\").sum()[\"Marketcap_1_1\"]).sort_values() / 10**9"
   ]
  },
  {
   "cell_type": "markdown",
   "id": "broadband-stage",
   "metadata": {},
   "source": [
    "At the 2020 bottom of the S&P 500 (March 23rd), the Information Technology and Financials sectors had the largest drop in total market cap (compared to January 1st) with 1.592 trillion and 1.518 trillion respectively."
   ]
  },
  {
   "cell_type": "code",
   "execution_count": 44,
   "id": "united-providence",
   "metadata": {},
   "outputs": [
    {
     "data": {
      "text/plain": [
       "GICS Sector\n",
       "Financials               -874.321981\n",
       "Industrials              -570.110581\n",
       "Information Technology   -551.625073\n",
       "Energy                   -509.789315\n",
       "Communication Services   -399.006775\n",
       "Consumer Discretionary   -372.856058\n",
       "Health Care              -265.002033\n",
       "Consumer Staples         -134.532178\n",
       "Materials                -105.656289\n",
       "Real Estate               -55.248802\n",
       "Utilities                 -40.512642\n",
       "dtype: float64"
      ]
     },
     "execution_count": 44,
     "metadata": {},
     "output_type": "execute_result"
    }
   ],
   "source": [
    "(stocks_df.groupby(\"GICS Sector\").sum()[\"Marketcap_4_9\"] - stocks_df.groupby(\"GICS Sector\").sum()[\"Marketcap_1_1\"]).sort_values() / 10**9"
   ]
  },
  {
   "cell_type": "markdown",
   "id": "smaller-midwest",
   "metadata": {},
   "source": [
    "As of April 9th, we can see that the Financials and Industrials sector had the largest drop in total market cap compared to January 1st.\n",
    "\n",
    "\n",
    "\n",
    "## Ranking of companies by percentage change of stock prices"
   ]
  },
  {
   "cell_type": "code",
   "execution_count": 45,
   "id": "bearing-crystal",
   "metadata": {},
   "outputs": [
    {
     "data": {
      "text/html": [
       "<div>\n",
       "<style scoped>\n",
       "    .dataframe tbody tr th:only-of-type {\n",
       "        vertical-align: middle;\n",
       "    }\n",
       "\n",
       "    .dataframe tbody tr th {\n",
       "        vertical-align: top;\n",
       "    }\n",
       "\n",
       "    .dataframe thead th {\n",
       "        text-align: right;\n",
       "    }\n",
       "</style>\n",
       "<table border=\"1\" class=\"dataframe\">\n",
       "  <thead>\n",
       "    <tr style=\"text-align: right;\">\n",
       "      <th></th>\n",
       "      <th>Security</th>\n",
       "      <th>PercentageChange_4_9_1_1</th>\n",
       "    </tr>\n",
       "    <tr>\n",
       "      <th>index</th>\n",
       "      <th></th>\n",
       "      <th></th>\n",
       "    </tr>\n",
       "  </thead>\n",
       "  <tbody>\n",
       "    <tr>\n",
       "      <th>343</th>\n",
       "      <td>Norwegian Cruise Line Holdings</td>\n",
       "      <td>-77.715451</td>\n",
       "    </tr>\n",
       "    <tr>\n",
       "      <th>86</th>\n",
       "      <td>Carnival Corp.</td>\n",
       "      <td>-75.794192</td>\n",
       "    </tr>\n",
       "    <tr>\n",
       "      <th>403</th>\n",
       "      <td>Royal Caribbean Group</td>\n",
       "      <td>-70.129967</td>\n",
       "    </tr>\n",
       "    <tr>\n",
       "      <th>297</th>\n",
       "      <td>Marathon Oil Corp.</td>\n",
       "      <td>-69.883041</td>\n",
       "    </tr>\n",
       "    <tr>\n",
       "      <th>44</th>\n",
       "      <td>APA Corporation</td>\n",
       "      <td>-67.665615</td>\n",
       "    </tr>\n",
       "  </tbody>\n",
       "</table>\n",
       "</div>"
      ],
      "text/plain": [
       "                             Security  PercentageChange_4_9_1_1\n",
       "index                                                          \n",
       "343    Norwegian Cruise Line Holdings                -77.715451\n",
       "86                     Carnival Corp.                -75.794192\n",
       "403             Royal Caribbean Group                -70.129967\n",
       "297                Marathon Oil Corp.                -69.883041\n",
       "44                    APA Corporation                -67.665615"
      ]
     },
     "execution_count": 45,
     "metadata": {},
     "output_type": "execute_result"
    }
   ],
   "source": [
    "stocks_df.sort_values(by=[\"PercentageChange_4_9_1_1\"])[[\"Security\", \"PercentageChange_4_9_1_1\"]].head(5)"
   ]
  },
  {
   "cell_type": "markdown",
   "id": "suspended-location",
   "metadata": {},
   "source": [
    "We can see from the table above that the companies that are hardest hit are the 3 major cruises companies: Norwegian Cruise Line Holdings, Carnival Corp., Royal Caribbean Cruises Ltd. These companies saw drops in their stock price of over 70%."
   ]
  },
  {
   "cell_type": "code",
   "execution_count": 46,
   "id": "configured-tucson",
   "metadata": {},
   "outputs": [
    {
     "name": "stdout",
     "output_type": "stream",
     "text": [
      "438\n",
      "66\n"
     ]
    }
   ],
   "source": [
    "print(sum(stocks_df[\"PercentageChange_4_9_1_1\"] < 0))\n",
    "print(sum(stocks_df[\"PercentageChange_4_9_1_1\"] > 0))"
   ]
  },
  {
   "cell_type": "markdown",
   "id": "central-anime",
   "metadata": {},
   "source": [
    "Only 66 stocks form the 505 saw positive growth from January 1st to April 9th.\n",
    "\n",
    "\n",
    "## Percentage Change of stock priced by sector"
   ]
  },
  {
   "cell_type": "code",
   "execution_count": 47,
   "id": "several-wright",
   "metadata": {},
   "outputs": [
    {
     "data": {
      "text/plain": [
       "GICS Sector\n",
       "Energy                   -48.659427\n",
       "Consumer Discretionary   -27.775292\n",
       "Financials               -25.331719\n",
       "Communication Services   -20.003368\n",
       "Materials                -17.806975\n",
       "Real Estate              -14.154609\n",
       "Information Technology   -13.783557\n",
       "Health Care               -7.305440\n",
       "Consumer Staples          -7.078867\n",
       "Utilities                 -6.477505\n",
       "Industrials                     inf\n",
       "Name: PercentageChange_4_9_1_1, dtype: float64"
      ]
     },
     "execution_count": 47,
     "metadata": {},
     "output_type": "execute_result"
    }
   ],
   "source": [
    "stocks_df.groupby(\"GICS Sector\").mean()['PercentageChange_4_9_1_1'].sort_values()"
   ]
  },
  {
   "cell_type": "markdown",
   "id": "rolled-rainbow",
   "metadata": {},
   "source": [
    "We can see that the energy sector was the hardest hit with a 49.8% average drop in stock prices.\n",
    "\n",
    "Below we can visualize a boxplot of the 11 sectors' percentage change in stock prices from January 1st to April 9th."
   ]
  },
  {
   "cell_type": "code",
   "execution_count": 48,
   "id": "challenging-charleston",
   "metadata": {},
   "outputs": [
    {
     "data": {
      "text/plain": [
       "<AxesSubplot:xlabel='GICS Sector', ylabel='PercentageChange_4_9_1_1'>"
      ]
     },
     "execution_count": 48,
     "metadata": {},
     "output_type": "execute_result"
    },
    {
     "data": {
      "image/png": "[encoded data removed]",
      "text/plain": [
       "<Figure size 1296x432 with 1 Axes>"
      ]
     },
     "metadata": {},
     "output_type": "display_data"
    }
   ],
   "source": [
    "plt.figure(figsize=(18, 6))\n",
    "plt.tick_params('both', labelsize='8')\n",
    "plt.xticks(rotation=45)\n",
    "sns.boxplot(x=\"GICS Sector\", y=\"PercentageChange_4_9_1_1\", data=stocks_df)\n"
   ]
  },
  {
   "cell_type": "code",
   "execution_count": 50,
   "id": "transsexual-hepatitis",
   "metadata": {},
   "outputs": [
    {
     "data": {
      "text/plain": [
       "GICS Sub-Industry\n",
       "Hotels, Resorts & Cruise Lines       -61.709685\n",
       "Oil & Gas Equipment & Services       -57.399071\n",
       "Airlines                             -53.542246\n",
       "Oil & Gas Exploration & Production   -51.211968\n",
       "Oil & Gas Refining & Marketing       -49.923745\n",
       "                                        ...    \n",
       "Water Utilities                        9.608985\n",
       "Biotechnology                         10.572578\n",
       "Gold                                  32.600648\n",
       "Industrial Machinery                        inf\n",
       "Building Products                           inf\n",
       "Name: PercentageChange_4_9_1_1, Length: 124, dtype: float64"
      ]
     },
     "execution_count": 50,
     "metadata": {},
     "output_type": "execute_result"
    }
   ],
   "source": [
    "stocks_df.groupby(\"GICS Sub-Industry\").mean()['PercentageChange_4_9_1_1'].sort_values()"
   ]
  },
  {
   "cell_type": "code",
   "execution_count": 52,
   "id": "peaceful-brown",
   "metadata": {},
   "outputs": [
    {
     "name": "stdout",
     "output_type": "stream",
     "text": [
      "111\n",
      "13\n"
     ]
    }
   ],
   "source": [
    "print(sum(stocks_df.groupby(\"GICS Sub-Industry\").mean()['PercentageChange_4_9_1_1'] < 0))\n",
    "print(sum(stocks_df.groupby(\"GICS Sub-Industry\").mean()['PercentageChange_4_9_1_1'] > 0))"
   ]
  },
  {
   "cell_type": "markdown",
   "id": "direct-ocean",
   "metadata": {},
   "source": [
    "if we look at the average percentage change in stock prices by Sub Industry; we can see that the travel related industries, Oil & Gas and Department Stores were the hardest hit. 118 of the 138 Sub Industries had their average stock price declined from January 1st to April 9th."
   ]
  },
  {
   "cell_type": "code",
   "execution_count": 56,
   "id": "minute-fundamental",
   "metadata": {},
   "outputs": [
    {
     "data": {
      "text/plain": [
       "<AxesSubplot:xlabel='GICS Sub-Industry'>"
      ]
     },
     "execution_count": 56,
     "metadata": {},
     "output_type": "execute_result"
    },
    {
     "data": {
      "image/png": "[encoded data removed]",
      "text/plain": [
       "<Figure size 1296x432 with 1 Axes>"
      ]
     },
     "metadata": {},
     "output_type": "display_data"
    }
   ],
   "source": [
    "plt.figure(figsize=(18, 6))\n",
    "plt.tick_params('both', labelsize='8')\n",
    "stocks_df.groupby(\"GICS Sub-Industry\").mean()['PercentageChange_4_9_1_1'].sort_values().plot.bar()"
   ]
  },
  {
   "cell_type": "markdown",
   "id": "political-grant",
   "metadata": {},
   "source": [
    "# Percentage Change of stock priced by Sub Industry (From March 23rf to April 9th)"
   ]
  },
  {
   "cell_type": "code",
   "execution_count": 58,
   "id": "standard-bouquet",
   "metadata": {},
   "outputs": [
    {
     "data": {
      "text/plain": [
       "GICS Sub-Industry\n",
       "Food Retail                         -0.064350\n",
       "Drug Retail                          0.848429\n",
       "Hypermarkets & Super Centers         5.825800\n",
       "Interactive Home Entertainment       8.869739\n",
       "General Merchandise Stores          10.107788\n",
       "                                      ...    \n",
       "Trading Companies & Distributors    51.939625\n",
       "Copper                              51.948052\n",
       "Real Estate Services                52.899765\n",
       "Diversified Chemicals               55.535296\n",
       "Household Appliances                63.111180\n",
       "Name: PercentageChange_4_9_3_23, Length: 124, dtype: float64"
      ]
     },
     "execution_count": 58,
     "metadata": {},
     "output_type": "execute_result"
    }
   ],
   "source": [
    "stocks_df.groupby(\"GICS Sub-Industry\").mean()['PercentageChange_4_9_3_23'].sort_values()"
   ]
  },
  {
   "cell_type": "markdown",
   "id": "younger-phenomenon",
   "metadata": {},
   "source": [
    "All sectors and sub industries (except Food Retail) saw their average stock price go up from March 23rd to April 9th.\n",
    "\n",
    "# Conclusion\n",
    "\n",
    "In this tutorial, we learned how to use Python, Google Sheets and Google Finance to collect and analyze stock data in the context of coronavirus pandemic. We're still in the early stages of the pandemic, and we don't know yet what would be the mid to long term effect of the pandemic on both the society and the economy. It would be interesting to review this analysis in the coming weeks to see if the stock market recovers from the 2020 losses.\n",
    "\n",
    "# References\n",
    "[1] https://en.wikipedia.org/wiki/Google_Finance\n"
   ]
  },
  {
   "cell_type": "code",
   "execution_count": null,
   "id": "practical-terry",
   "metadata": {},
   "outputs": [],
   "source": []
  }
 ],
 "metadata": {
  "kernelspec": {
   "display_name": "Python 3",
   "language": "python",
   "name": "python3"
  },
  "language_info": {
   "codemirror_mode": {
    "name": "ipython",
    "version": 3
   },
   "file_extension": ".py",
   "mimetype": "text/x-python",
   "name": "python",
   "nbconvert_exporter": "python",
   "pygments_lexer": "ipython3",
   "version": "3.9.0"
  }
 },
 "nbformat": 4,
 "nbformat_minor": 5
}
